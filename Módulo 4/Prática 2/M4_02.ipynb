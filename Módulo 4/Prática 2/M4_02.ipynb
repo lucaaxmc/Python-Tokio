{
 "cells": [
  {
   "cell_type": "markdown",
   "metadata": {},
   "source": [
    "# Exercícios Módulo 2. Unidade 2. Métodos aplicados (Soluções)\n",
    "\n",
    "Considerações a ter em conta:\n",
    "\n",
    "* Guardar este documento com o seguinte formato para entrega: __M4_02_nome_apelido1_apelido2__\n",
    "* Fazer os exercícios com as ferramentas vistas nas sessões. \n",
    "* Comentar o código\n",
    "* Utilizar nomes de variáveis apropriados, se vai guardar uma nota, chamar a essa variável nota, não n ou x"
   ]
  },
  {
   "cell_type": "markdown",
   "metadata": {},
   "source": [
    "**1) Solicitar um texto ao utilizador e dizer se:**\n",
    "* O texto é uma cadeia de texto\n",
    "* O texto é uma cadeia de dígitos\n",
    "* O texto inclui caracteres e números"
   ]
  },
  {
   "cell_type": "code",
   "execution_count": 4,
   "metadata": {},
   "outputs": [
    {
     "name": "stdout",
     "output_type": "stream",
     "text": [
      "Escreva uma frase: 270921\n",
      "O texto é uma cadeia de dígitos.\n"
     ]
    }
   ],
   "source": [
    "texto = input('Escreva um texto: ')\n",
    "\n",
    "if texto.isalpha():\n",
    "    print('O texto é uma cadeia de texto.')\n",
    "\n",
    "elif texto.isdigit():\n",
    "    print('O texto é uma cadeia de dígitos.')\n",
    "    \n",
    "elif texto.isalnum():\n",
    "    print('O texto inclui caracteres e números.')\n"
   ]
  },
  {
   "cell_type": "markdown",
   "metadata": {},
   "source": [
    "**2) Solicitar ao utilizador um texto e uma palavra a pesquisar dentro do texto. Se a localizar, extrair desde essa posição até ao final da frase e armazená-lo noutra variável, e imprimir.** \n",
    "* Exemplo de texto: Olá mundo que tal \n",
    "* Pesquisamos: mundo\n",
    "* Resultado: mundo que tal"
   ]
  },
  {
   "cell_type": "code",
   "execution_count": 7,
   "metadata": {},
   "outputs": [
    {
     "name": "stdout",
     "output_type": "stream",
     "text": [
      "Escreva um texto: Olá eu já comi o almoço, mas tenho fome\n",
      "Insira a palavra que pretende pesquisar dentro do texto: almoço\n",
      "Resultado:  almoço, mas tenho fome\n"
     ]
    }
   ],
   "source": [
    "texto = input('Escreva um texto: ')\n",
    "palavra = input('Insira a palavra que pretende pesquisar dentro do texto: ')\n",
    "\n",
    "pesquisa = texto.find(palavra)\n",
    "print('Resultado: ', texto[pesquisa:])\n"
   ]
  },
  {
   "cell_type": "markdown",
   "metadata": {},
   "source": [
    "**3) Partindo de uma stri com diferentes palavras separadas por espaços, criar uma lista onde cada elemento seja cada palavra do texto. Mostrar essa lista e mostrar o número de vezes que se encontra a palavra \"mundo\" nessa lista**\n",
    "\n",
    "* Texto = “Olá mundo mundo que tal mundo estás”\n",
    "* Resultado = 3"
   ]
  },
  {
   "cell_type": "code",
   "execution_count": 8,
   "metadata": {},
   "outputs": [
    {
     "name": "stdout",
     "output_type": "stream",
     "text": [
      "['Olá', 'mundo', 'mundo', 'que', 'tal', 'mundo', 'estás']\n"
     ]
    },
    {
     "data": {
      "text/plain": [
       "3"
      ]
     },
     "execution_count": 8,
     "metadata": {},
     "output_type": "execute_result"
    }
   ],
   "source": [
    "texto = 'Olá mundo mundo que tal mundo estás'\n",
    "\n",
    "textoSeparado = texto.split(' ')\n",
    "\n",
    "print(textoSeparado)\n",
    "textoSeparado.count('mundo')"
   ]
  }
 ],
 "metadata": {
  "anaconda-cloud": {},
  "kernelspec": {
   "display_name": "Python 3 (ipykernel)",
   "language": "python",
   "name": "python3"
  },
  "language_info": {
   "codemirror_mode": {
    "name": "ipython",
    "version": 3
   },
   "file_extension": ".py",
   "mimetype": "text/x-python",
   "name": "python",
   "nbconvert_exporter": "python",
   "pygments_lexer": "ipython3",
   "version": "3.9.13"
  }
 },
 "nbformat": 4,
 "nbformat_minor": 1
}
