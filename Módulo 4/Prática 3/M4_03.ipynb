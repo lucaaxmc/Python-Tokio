{
 "cells": [
  {
   "cell_type": "markdown",
   "metadata": {},
   "source": [
    "# Exercícios Módulo 4. Unidade 3. Erros e Exceções (Soluções)\n",
    "\n",
    "Considerações a ter em conta: \n",
    "\n",
    "* Guardar este documento com o seguinte formato para entrega: __M4_03_nome_apelido1_apelido2__\n",
    "* Fazer os exercícios com as ferramentas vistas nas sessões. \n",
    "* Comentar o código\n",
    "* Utilizar nomes de variáveis apropriados, se vai guardar uma nota, chamar a essa variável nota, não n ou x"
   ]
  },
  {
   "cell_type": "markdown",
   "metadata": {},
   "source": [
    "**1)  Localizar o erro no seguinte bloco de código. Criar uma exceção para evitar que o programa bloqueia e adicionar uma explicação numa mensagem ao utilizador com a causa e/ou solução::**"
   ]
  },
  {
   "cell_type": "code",
   "execution_count": 2,
   "metadata": {},
   "outputs": [
    {
     "name": "stdout",
     "output_type": "stream",
     "text": [
      "Não é possível um número por 0.\n"
     ]
    }
   ],
   "source": [
    "try:\n",
    "    \n",
    "    resultado = 10/0\n",
    "    \n",
    "except ZeroDivisionError:\n",
    "    \n",
    "    print(\"Não é possível um número por 0.\")"
   ]
  },
  {
   "cell_type": "markdown",
   "metadata": {},
   "source": [
    "**2)  Localizar o erro no seguinte bloco de código. Criar uma exceção para evitar que o programa bloqueia e adicionar uma explicação numa mensagem ao utilizador com a causa e/ou solução::**"
   ]
  },
  {
   "cell_type": "code",
   "execution_count": 3,
   "metadata": {},
   "outputs": [
    {
     "name": "stdout",
     "output_type": "stream",
     "text": [
      "A posição inserida não existe. Para aceder ao último objeto da lista utilize 'lista[-1]'.\n"
     ]
    }
   ],
   "source": [
    "lista = [1, 2, 3, 4, 5]\n",
    "\n",
    "try:\n",
    "    \n",
    "    lista[10]\n",
    "    \n",
    "except IndexError:\n",
    "    \n",
    "    print(\"A posição inserida não existe. Para aceder ao último objeto da lista utilize 'lista[-1]'.\")"
   ]
  },
  {
   "cell_type": "markdown",
   "metadata": {},
   "source": [
    "**3)  Localizar o erro no seguinte bloco de código. Criar uma exceção para evitar que o programa bloqueia e adicionar uma explicação numa mensagem ao utilizador com a causa e/ou solução::**"
   ]
  },
  {
   "cell_type": "code",
   "execution_count": 21,
   "metadata": {},
   "outputs": [
    {
     "name": "stdout",
     "output_type": "stream",
     "text": [
      "O valor introduzido não existe no dicionário. Tente outro valor, ou introduza o valor pretendido no dicionário.\n"
     ]
    }
   ],
   "source": [
    "cores = { 'vermelho':'red', 'verde':'green', 'preto':'black'  }\n",
    "\n",
    "try: \n",
    "    \n",
    "    cores['branco']\n",
    "\n",
    "except KeyError:\n",
    "    \n",
    "    print('O valor introduzido não existe no dicionário. Tente outro valor, ou introduza o valor pretendido no dicionário.')"
   ]
  },
  {
   "cell_type": "markdown",
   "metadata": {},
   "source": [
    "**4) Localizar o erro no seguinte bloco de código. Criar uma exceção para evitar que o programa bloqueia e adicionar uma explicação numa mensagem ao utilizador com a causa e/ou solução::**"
   ]
  },
  {
   "cell_type": "code",
   "execution_count": 6,
   "metadata": {},
   "outputs": [
    {
     "name": "stdout",
     "output_type": "stream",
     "text": [
      "Não é possível somar strings a inteiros. Converta um dos valores e tente novamente.\n"
     ]
    }
   ],
   "source": [
    "try:\n",
    "    \n",
    "    resultado = \"20\" + 15\n",
    "\n",
    "except TypeError:\n",
    "    \n",
    "    print('Não é possível somar strings a inteiros. Converta um dos valores e tente novamente.')"
   ]
  },
  {
   "cell_type": "markdown",
   "metadata": {},
   "source": [
    "**5)  Realizar uma função chamada agregar_uma_vez() que receba uma lista e um elemento como argumento. A função deve adicionar o elemento ao final da lista com a condição de não repetir nenhum elemento. Se este elemento já se encontra na lista deve-se invocar um erro de tipo ValueError que deve capturar e mostrar esta mensagem no seu lugar:**\n",
    "\n",
    "```\n",
    "  Erro: Impossível adicionar elementos duplicados => [elemento].\n",
    "```\n",
    "**Teste agregar os elementos 10, -2, “Olá” à lista de elementos com a função que criou e mostrar o seu conteúdo**\n",
    "\n",
    "*Pista: Pode utilizar a sintaxis: elemento in lista*"
   ]
  },
  {
   "cell_type": "code",
   "execution_count": 20,
   "metadata": {},
   "outputs": [
    {
     "ename": "ValueError",
     "evalue": "Erro: Impossivel adicionar elementos duplicados",
     "output_type": "error",
     "traceback": [
      "\u001b[1;31m---------------------------------------------------------------------------\u001b[0m",
      "\u001b[1;31mValueError\u001b[0m                                Traceback (most recent call last)",
      "\u001b[1;32m~\\AppData\\Local\\Temp\\ipykernel_12604\\4059046511.py\u001b[0m in \u001b[0;36m<module>\u001b[1;34m\u001b[0m\n\u001b[0;32m     10\u001b[0m \u001b[0magregar_uma_vez\u001b[0m\u001b[1;33m(\u001b[0m\u001b[1;36m10\u001b[0m\u001b[1;33m)\u001b[0m\u001b[1;33m\u001b[0m\u001b[1;33m\u001b[0m\u001b[0m\n\u001b[0;32m     11\u001b[0m \u001b[0magregar_uma_vez\u001b[0m\u001b[1;33m(\u001b[0m\u001b[1;34m\"ola\"\u001b[0m\u001b[1;33m)\u001b[0m\u001b[1;33m\u001b[0m\u001b[1;33m\u001b[0m\u001b[0m\n\u001b[1;32m---> 12\u001b[1;33m \u001b[0magregar_uma_vez\u001b[0m\u001b[1;33m(\u001b[0m\u001b[1;33m-\u001b[0m\u001b[1;36m2\u001b[0m\u001b[1;33m)\u001b[0m\u001b[1;33m\u001b[0m\u001b[1;33m\u001b[0m\u001b[0m\n\u001b[0m\u001b[0;32m     13\u001b[0m \u001b[0mprint\u001b[0m\u001b[1;33m(\u001b[0m\u001b[0mlista\u001b[0m\u001b[1;33m)\u001b[0m\u001b[1;33m\u001b[0m\u001b[1;33m\u001b[0m\u001b[0m\n",
      "\u001b[1;32m~\\AppData\\Local\\Temp\\ipykernel_12604\\4059046511.py\u001b[0m in \u001b[0;36magregar_uma_vez\u001b[1;34m(elemento)\u001b[0m\n\u001b[0;32m      6\u001b[0m             \u001b[0mlista\u001b[0m\u001b[1;33m.\u001b[0m\u001b[0mappend\u001b[0m\u001b[1;33m(\u001b[0m\u001b[0melemento\u001b[0m\u001b[1;33m)\u001b[0m\u001b[1;33m\u001b[0m\u001b[1;33m\u001b[0m\u001b[0m\n\u001b[0;32m      7\u001b[0m         \u001b[1;32melif\u001b[0m \u001b[0melemento\u001b[0m \u001b[1;32min\u001b[0m \u001b[0mlista\u001b[0m\u001b[1;33m:\u001b[0m\u001b[1;33m\u001b[0m\u001b[1;33m\u001b[0m\u001b[0m\n\u001b[1;32m----> 8\u001b[1;33m             \u001b[1;32mraise\u001b[0m \u001b[0mValueError\u001b[0m\u001b[1;33m(\u001b[0m\u001b[1;34m'Erro: Impossivel adicionar elementos duplicados'\u001b[0m\u001b[1;33m)\u001b[0m\u001b[1;33m\u001b[0m\u001b[1;33m\u001b[0m\u001b[0m\n\u001b[0m\u001b[0;32m      9\u001b[0m \u001b[1;33m\u001b[0m\u001b[0m\n\u001b[0;32m     10\u001b[0m \u001b[0magregar_uma_vez\u001b[0m\u001b[1;33m(\u001b[0m\u001b[1;36m10\u001b[0m\u001b[1;33m)\u001b[0m\u001b[1;33m\u001b[0m\u001b[1;33m\u001b[0m\u001b[0m\n",
      "\u001b[1;31mValueError\u001b[0m: Erro: Impossivel adicionar elementos duplicados"
     ]
    }
   ],
   "source": [
    "lista = [1, 5, -2]\n",
    "\n",
    "def agregar_uma_vez(elemento):\n",
    "    \n",
    "        if elemento not in lista:\n",
    "            lista.append(elemento)\n",
    "            \n",
    "        elif elemento in lista:\n",
    "            raise ValueError('Erro: Impossivel adicionar elementos duplicados')\n",
    "\n",
    "agregar_uma_vez(10)\n",
    "agregar_uma_vez(\"ola\")\n",
    "agregar_uma_vez(-2)\n",
    "print(lista)"
   ]
  },
  {
   "cell_type": "markdown",
   "metadata": {},
   "source": [
    "**6) Pesquisa na documentação outra exceção que não se utilizou até agora e realiza os seguintes passos:**\n",
    "* Provocar o erro num código de exemplo.\n",
    "* Uma vez que as tenha provocado, controlá-las com try-except \n",
    "* Mostrar ao utilizador com uma mensagem personalizada, que estará dentro do except. "
   ]
  },
  {
   "cell_type": "code",
   "execution_count": 22,
   "metadata": {},
   "outputs": [
    {
     "name": "stdout",
     "output_type": "stream",
     "text": [
      "Esta frase está bem escrita!\n"
     ]
    },
    {
     "ename": "NameError",
     "evalue": "name 'pront' is not defined",
     "output_type": "error",
     "traceback": [
      "\u001b[1;31m---------------------------------------------------------------------------\u001b[0m",
      "\u001b[1;31mNameError\u001b[0m                                 Traceback (most recent call last)",
      "\u001b[1;32m~\\AppData\\Local\\Temp\\ipykernel_12604\\3467085349.py\u001b[0m in \u001b[0;36m<module>\u001b[1;34m\u001b[0m\n\u001b[0;32m      1\u001b[0m \u001b[0mprint\u001b[0m\u001b[1;33m(\u001b[0m\u001b[1;34m'Esta frase está bem escrita!'\u001b[0m\u001b[1;33m)\u001b[0m\u001b[1;33m\u001b[0m\u001b[1;33m\u001b[0m\u001b[0m\n\u001b[1;32m----> 2\u001b[1;33m \u001b[0mpront\u001b[0m\u001b[1;33m(\u001b[0m\u001b[1;34m'Esta tem um erro...'\u001b[0m\u001b[1;33m)\u001b[0m\u001b[1;33m\u001b[0m\u001b[1;33m\u001b[0m\u001b[0m\n\u001b[0m",
      "\u001b[1;31mNameError\u001b[0m: name 'pront' is not defined"
     ]
    }
   ],
   "source": [
    "print('Esta frase está bem escrita!')\n",
    "pront('Esta tem um erro...')"
   ]
  },
  {
   "cell_type": "code",
   "execution_count": 25,
   "metadata": {},
   "outputs": [
    {
     "name": "stdout",
     "output_type": "stream",
     "text": [
      "Esta frase está bem escrita, mas...\n",
      "\n",
      "Existe algum erro, a função/método chamada/o não existe. Por favor confirme se não tem algum erro ortográfico.\n"
     ]
    }
   ],
   "source": [
    "try: \n",
    "    \n",
    "    print('Esta frase está bem escrita, mas...')\n",
    "    print()\n",
    "    pront('Esta tem um erro...')\n",
    "    \n",
    "except NameError:\n",
    "    \n",
    "    print('Existe algum erro, a função/método chamada/o não existe. Por favor confirme se não tem algum erro ortográfico.')"
   ]
  }
 ],
 "metadata": {
  "anaconda-cloud": {},
  "kernelspec": {
   "display_name": "Python 3 (ipykernel)",
   "language": "python",
   "name": "python3"
  },
  "language_info": {
   "codemirror_mode": {
    "name": "ipython",
    "version": 3
   },
   "file_extension": ".py",
   "mimetype": "text/x-python",
   "name": "python",
   "nbconvert_exporter": "python",
   "pygments_lexer": "ipython3",
   "version": "3.9.13"
  }
 },
 "nbformat": 4,
 "nbformat_minor": 1
}
