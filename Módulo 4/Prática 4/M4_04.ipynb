{
 "cells": [
  {
   "cell_type": "markdown",
   "metadata": {},
   "source": [
    "# Exercícios Módulo 4. Unidade 4. Dados temporais (Soluções)\n",
    "\n",
    "Considerações a ter em conta:\n",
    "\n",
    "* Guardar este documento com o seguinte formato para entrega: __M4_04_nome_apelido1_apelido2__\n",
    "* Fazer os exercícios com as ferramentas vistas nas sessões. \n",
    "* Comentar o código\n",
    "* Utilizar nomes de variáveis apropriados, se vai guardar uma nota, chamar a essa variável nota, não n ou x"
   ]
  },
  {
   "cell_type": "markdown",
   "metadata": {},
   "source": [
    "**1)  Dadas as duas seguintes datas, que correspondem às datas de nascimento de dois irmãos (na zona horária de Europa/Lisbon), indica qual é a diferença entre eles em dias, horas, minutos e segundos**"
   ]
  },
  {
   "cell_type": "code",
   "execution_count": 5,
   "metadata": {},
   "outputs": [
    {
     "name": "stdout",
     "output_type": "stream",
     "text": [
      "Diferença entre os irmãos: 2440 days, 0:35:00\n"
     ]
    }
   ],
   "source": [
    "from datetime import datetime\n",
    "import pytz\n",
    "\n",
    "now_utc = datetime.utcnow().replace(tzinfo = pytz.utc)\n",
    "lisboa_tz = pytz.timezone(\"Europe/Lisbon\")\n",
    "lisboa_now = now_utc.astimezone(lisboa_tz)\n",
    "\n",
    "filho1 = datetime(1985, 10, 20, 17, 55)\n",
    "filho2 = datetime(1992, 6, 25, 18, 30)\n",
    "\n",
    "dt = datetime.now()\n",
    "dt_diferencial_f1 = dt - filho1\n",
    "dt_diferencial_f2 = dt - filho2\n",
    "print('Diferença entre os irmãos:', dt_diferencial_f1 - dt_diferencial_f2)\n"
   ]
  },
  {
   "cell_type": "markdown",
   "metadata": {},
   "source": [
    "**2) Criar uma função que se chame formato_data() que receba por parâmetro uma data do tipo datetime e nos devolva o seguinte formato: “20 de abril de 2020”.**\n",
    "\n",
    "**Em muitas ocasiões os nossos sistemas estão configurados de forma pré-determinada em inglês, e não se pode mudar a localidade para português. Portanto, temos que aprender a selecionar e mostrar os meses em português apesar do nosso sistema se encontrarem inglês ou noutro idioma.** \n",
    "\n",
    "**Criar uma tupla para armazenar a listagem de meses em português para poder selecionar o nome do mês adequado em função a uma data que lhe proporcionemos à função. Fica proibido de utilizar métodos como locale, setlocale ou strftime.**\n",
    "\n",
    "**Experimentar a função enviando-lhe uma data pré-definida por si e a data atual (now)**"
   ]
  },
  {
   "cell_type": "code",
   "execution_count": 14,
   "metadata": {},
   "outputs": [
    {
     "name": "stdout",
     "output_type": "stream",
     "text": [
      "27 de Setembro de 2021\n",
      "11 de Abril de 2023\n"
     ]
    }
   ],
   "source": [
    "diaDeHoje = datetime.now()\n",
    "\n",
    "def formato_data(dia, mes, ano):\n",
    "    meses_do_ano = ('Janeiro','Fevereiro', 'Marco', 'Abril', 'Maio', 'Junho', 'Julho', 'Agosto', 'Setembro', 'Outubro','Novembro','Dezembro')\n",
    "    return print(dia,'de',meses_do_ano[mes-1],'de',ano)\n",
    "\n",
    "formato_data(27, 9, 2021)\n",
    "formato_data(diaDeHoje.day,diaDeHoje.month,diaDeHoje.year)"
   ]
  },
  {
   "cell_type": "markdown",
   "metadata": {},
   "source": [
    "**3) Utilizando strftime, formate a data atual para que saia com o seguinte formato:**\n",
    "* Dia: 20\n",
    "* Mês: 04\n",
    "* Ano: 2020\n",
    "* Hora: 16\n",
    "* Minutos: 19\n",
    "* Segundos (e milissegundos): 08.879057"
   ]
  },
  {
   "cell_type": "code",
   "execution_count": 12,
   "metadata": {
    "scrolled": true
   },
   "outputs": [
    {
     "name": "stdout",
     "output_type": "stream",
     "text": [
      "Dia: 11 \n",
      "Mes: 04 \n",
      "Ano: 2023 \n",
      "Hora: 10 \n",
      "Minutos: 30 \n",
      "Segundos (e milissegundos): 36.741682\n"
     ]
    }
   ],
   "source": [
    "data_atual = datetime.now()\n",
    "print(data_atual.strftime(\"Dia: %d \\nMes: %m \\nAno: %Y \\nHora: %H \\nMinutos: %M \\nSegundos (e milissegundos): %S.%f\"))"
   ]
  }
 ],
 "metadata": {
  "anaconda-cloud": {},
  "kernelspec": {
   "display_name": "Python 3 (ipykernel)",
   "language": "python",
   "name": "python3"
  },
  "language_info": {
   "codemirror_mode": {
    "name": "ipython",
    "version": 3
   },
   "file_extension": ".py",
   "mimetype": "text/x-python",
   "name": "python",
   "nbconvert_exporter": "python",
   "pygments_lexer": "ipython3",
   "version": "3.9.13"
  }
 },
 "nbformat": 4,
 "nbformat_minor": 1
}
