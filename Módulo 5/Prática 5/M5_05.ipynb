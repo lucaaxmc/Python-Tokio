{
 "cells": [
  {
   "cell_type": "markdown",
   "metadata": {},
   "source": [
    "# Exercícios Módulo 5. Livrarias especializadas em dados (Soluções)\n",
    "\n",
    "Considerações a ter em conta:\n",
    "\n",
    "* Guardar este documento com o seguinte formato para entrega: __M5_05_nome_apelido1_apelido2__\n",
    "* Fazer os exercícios com as ferramentas vistas nas sessões. \n",
    "* Comentar o código\n",
    "* Utilizar nomes de variáveis apropriados, se vai guardar uma nota, chamar a essa variável nota, não n ou x"
   ]
  },
  {
   "cell_type": "markdown",
   "metadata": {},
   "source": [
    "**1) Trabalhar com NumPy**\n",
    "\n",
    "* Importar numpy e usar um alias para poder utilizar os seus recursos \n",
    "* Criar um array de elementos (de 10 a 100)\n",
    "* Inverter o array\n",
    "* Criar um array 3x3 com valores de 0 a 8 \n",
    "* Criar um array identidade de 6x6\n",
    "* Criar um array com valores aleatórios com o formato 3x3x3\n",
    "* Criar dois arrays, com valores aleatórios, A e B, e verificar se são iguais (há várias opções, investigar)"
   ]
  },
  {
   "cell_type": "code",
   "execution_count": 15,
   "metadata": {},
   "outputs": [
    {
     "name": "stdout",
     "output_type": "stream",
     "text": [
      "Elementos (de 10 a 100) invertidos:  [100  99  98  97  96  95  94  93  92  91  90  89  88  87  86  85  84  83\n",
      "  82  81  80  79  78  77  76  75  74  73  72  71  70  69  68  67  66  65\n",
      "  64  63  62  61  60  59  58  57  56  55  54  53  52  51  50  49  48  47\n",
      "  46  45  44  43  42  41  40  39  38  37  36  35  34  33  32  31  30  29\n",
      "  28  27  26  25  24  23  22  21  20  19  18  17  16  15  14  13  12  11\n",
      "  10] \n",
      "\n",
      "Array 3x3 com valores de 0 a 8:\n",
      " [[2 7 1]\n",
      " [5 6 3]\n",
      " [6 4 2]] \n",
      "\n",
      "Array identidade de 6x6:\n",
      " [[1. 0. 0. 0. 0. 0.]\n",
      " [0. 1. 0. 0. 0. 0.]\n",
      " [0. 0. 1. 0. 0. 0.]\n",
      " [0. 0. 0. 1. 0. 0.]\n",
      " [0. 0. 0. 0. 1. 0.]\n",
      " [0. 0. 0. 0. 0. 1.]] \n",
      "\n",
      "Array com valores aleatórios com o formato 3x3x3:\n",
      " [[[2 1 4]\n",
      "  [2 4 8]\n",
      "  [1 3 8]]\n",
      "\n",
      " [[2 4 6]\n",
      "  [7 7 6]\n",
      "  [2 2 2]]\n",
      "\n",
      " [[8 9 2]\n",
      "  [5 7 2]\n",
      "  [1 7 5]]] \n",
      "\n",
      "Array A\n",
      " [[4 8 0]\n",
      " [8 1 8]\n",
      " [2 6 3]] \n",
      "Array B\n",
      " [[4 7 8]\n",
      " [1 0 9]\n",
      " [2 3 3]]\n",
      "Os Arrays A e B são diferentes\n"
     ]
    }
   ],
   "source": [
    "import numpy as np\n",
    "from numpy import random\n",
    "elementos_10_100 = np.arange(10,101)\n",
    "elementos_10_100_reverse = elementos_10_100[::-1]\n",
    "print(\"Elementos (de 10 a 100) invertidos: \",elementos_10_100_reverse,\"\\n\")\n",
    "\n",
    "elementos0a8 = np.array([(2,7,1),(5,6,3),(6,4,2)])\n",
    "identidade = np.identity(6)\n",
    "random_geretor = random.default_rng()\n",
    "arrayAleatorio = random_geretor.integers(low=1,high=10,size=(3,3,3))\n",
    "print(\"Array 3x3 com valores de 0 a 8:\\n\",elementos0a8,\"\\n\")\n",
    "print(\"Array identidade de 6x6:\\n\",identidade,\"\\n\")\n",
    "print(\"Array com valores aleatórios com o formato 3x3x3:\\n\",arrayAleatorio,\"\\n\")\n",
    "\n",
    "arrayA = np.random.randint(0,10,(3,3))\n",
    "arrayB = np.random.randint(0,10,(3,3))\n",
    "print(\"Array A\\n\",arrayA,\"\\nArray B\\n\",arrayB)\n",
    "if (arrayA == arrayB).all():\n",
    "    print(\"O Array A é igual ao Array B\")\n",
    "else: print(\"Os Arrays A e B são diferentes\")"
   ]
  },
  {
   "cell_type": "markdown",
   "metadata": {},
   "source": [
    "**2) Seguir com NumPy**\n",
    "\n",
    "* Criar um array de 100 elementos aleatórios compreendidos entre 1 e 1000 (podem ser números inteiros). \n",
    "* Este array irá chamar-se dólares\n",
    "* Fazer a conversão dos preços em dólares do primeiro array para um segundo array que se vai chamar euros. Devemos utilizar a  seguinte conversão: \n",
    "  - 1 USD = 0,874413 EUR\n",
    "* Mostrar o resultado do array de euros, arredondando a 2 casas decimais."
   ]
  },
  {
   "cell_type": "code",
   "execution_count": 18,
   "metadata": {},
   "outputs": [
    {
     "name": "stdout",
     "output_type": "stream",
     "text": [
      "Dólares a converter em euros:\n",
      " [803 580 869 521 492 718  62 876 866 368 811 478 191 407 825  32 666 583\n",
      " 522  58 658  55 609 496  31 509 359 549 352 702 773 289 945 685 345 344\n",
      " 394 717 949  41 848 390 532  19 280 504 757 853 827 229 342 423 561 885\n",
      " 460 137 705 296   5 520 824 133 767  46 981 945 970 639 110   9 862 114\n",
      " 172 252 166 703  56 763 270 154 714 303 577 831 377  35 217 793 253 619\n",
      " 687 899 914 210 764  75 983 553 673 430]\n",
      "\n",
      "Dólares convertidos em Euros:\n",
      " [702.15, 507.16, 759.86, 455.57, 430.21, 627.83, 54.21, 765.99, 757.24, 321.78, 709.15, 417.97, 167.01, 355.89, 721.39, 27.98, 582.36, 509.78, 456.44, 50.72, 575.36, 48.09, 532.52, 433.71, 27.11, 445.08, 313.91, 480.05, 307.79, 613.84, 675.92, 252.71, 826.32, 598.97, 301.67, 300.8, 344.52, 626.95, 829.82, 35.85, 741.5, 341.02, 465.19, 16.61, 244.84, 440.7, 661.93, 745.87, 723.14, 200.24, 299.05, 369.88, 490.55, 773.86, 402.23, 119.79, 616.46, 258.83, 4.37, 454.69, 720.52, 116.3, 670.67, 40.22, 857.8, 826.32, 848.18, 558.75, 96.19, 7.87, 753.74, 99.68, 150.4, 220.35, 145.15, 614.71, 48.97, 667.18, 236.09, 134.66, 624.33, 264.95, 504.54, 726.64, 329.65, 30.6, 189.75, 693.41, 221.23, 541.26, 600.72, 786.1, 799.21, 183.63, 668.05, 65.58, 859.55, 483.55, 588.48, 376.0]\n"
     ]
    }
   ],
   "source": [
    "import numpy as np\n",
    "from numpy import random\n",
    "gerador_aleatorio = random.default_rng()\n",
    "dolares = gerador_aleatorio.integers(low=1,high=1000,size=100)\n",
    "\n",
    "list_euros = []\n",
    "\n",
    "print('Dólares a converter em euros:\\n', dolares)\n",
    "\n",
    "for euro in dolares:\n",
    "    euro = \"{:.2f}\".format(euro*0.874413)\n",
    "    list_euros.append(float(euro))\n",
    "    \n",
    "print('\\nDólares convertidos em Euros:\\n', list_euros)"
   ]
  },
  {
   "cell_type": "markdown",
   "metadata": {},
   "source": [
    "**3) Trabalhar com pandas**\n",
    "\n",
    "* Importar pandas e usar um alias para poder utilizar os seus recursos.\n",
    "* Carregar como dataframe de pandas csv 05_05_imdb_títulos.csv e mostrar os seus 5 primeiros registos.\n",
    "* Carregar como dataframe de pandas o csv 05_05_imdb_elenco.csv e mostrar os seus 5 primeiros registos\n",
    "* Mostrar o número de registos do dataframe de títulos.\n",
    "* Mostrar o número de registos do dataframe de elenco.\n",
    "* Mostrar os 5 titulos mais antigas.\n",
    "* Mostrar os filmes que no título contem a palavra “Drácula”. Quantos filmes são?\n",
    "* Mostrar os 10 títulos mais comuns (que mais se repetem).\n",
    "* Mostrar qual foi o primeiro filme chamado “Romeo and Juliet”.\n",
    "* Listar todas os filmes que contenham a palavra “Exorcist”, ordenados do mais antigo ao mais recente.\n",
    "* Mostrar quantos filmes foram feitas no ano 1950.\n",
    "* Mostrar quantaos filmes foram feitas de 1950 a 1959 (inclusive).\n",
    "* Mostrar todas os papéis que teve a trilogia “The Godfather”, agrupando pelo papel e forneca a informação da quantidade de vezes esse papel apareceu (exemplo: michael corleone aparece nos 3 filmes da triologia).\n",
    "* Mostrar o elenco completo, ordenado pela classificação “n” do filme “Drácula” de 1958.\n",
    "* Mostrar quantos papéis teve “Bruce Wayne” como protagonista (Dica: Em Batman de 1989, existe Bruce Wayne e tambem Young Bruce Wayne, que deverão ambos aparecer).\n",
    "* Mostrar quantos papéis fez “Robert de Niro” na sua carreira.\n",
    "* Listagem de papéis como protagonista (n=1) que teve o ator “Charlton Heston” na década dos 60’s, ordenado  por ano de forma descendente.\n",
    "* Mostrar quantos papéis para atores teve na década 50’s.\n",
    "* Mostrar quantos papéis para atrizes teve na década 50’s."
   ]
  },
  {
   "cell_type": "code",
   "execution_count": 15,
   "metadata": {},
   "outputs": [
    {
     "data": {
      "text/html": [
       "<div>\n",
       "<style scoped>\n",
       "    .dataframe tbody tr th:only-of-type {\n",
       "        vertical-align: middle;\n",
       "    }\n",
       "\n",
       "    .dataframe tbody tr th {\n",
       "        vertical-align: top;\n",
       "    }\n",
       "\n",
       "    .dataframe thead th {\n",
       "        text-align: right;\n",
       "    }\n",
       "</style>\n",
       "<table border=\"1\" class=\"dataframe\">\n",
       "  <thead>\n",
       "    <tr style=\"text-align: right;\">\n",
       "      <th></th>\n",
       "      <th>title</th>\n",
       "      <th>year</th>\n",
       "    </tr>\n",
       "  </thead>\n",
       "  <tbody>\n",
       "    <tr>\n",
       "      <th>0</th>\n",
       "      <td>Mahler</td>\n",
       "      <td>1974</td>\n",
       "    </tr>\n",
       "    <tr>\n",
       "      <th>1</th>\n",
       "      <td>Ogon, voda i... mednye truby</td>\n",
       "      <td>1968</td>\n",
       "    </tr>\n",
       "    <tr>\n",
       "      <th>2</th>\n",
       "      <td>Ana Nojoom bent alasherah wamotalagah</td>\n",
       "      <td>2014</td>\n",
       "    </tr>\n",
       "    <tr>\n",
       "      <th>3</th>\n",
       "      <td>Malu de Bicicleta</td>\n",
       "      <td>2010</td>\n",
       "    </tr>\n",
       "    <tr>\n",
       "      <th>4</th>\n",
       "      <td>Nazareno Apostol: Boy Ahas</td>\n",
       "      <td>1989</td>\n",
       "    </tr>\n",
       "    <tr>\n",
       "      <th>5</th>\n",
       "      <td>Ya ba yu xin niang</td>\n",
       "      <td>1971</td>\n",
       "    </tr>\n",
       "  </tbody>\n",
       "</table>\n",
       "</div>"
      ],
      "text/plain": [
       "                                   title  year\n",
       "0                                 Mahler  1974\n",
       "1           Ogon, voda i... mednye truby  1968\n",
       "2  Ana Nojoom bent alasherah wamotalagah  2014\n",
       "3                      Malu de Bicicleta  2010\n",
       "4             Nazareno Apostol: Boy Ahas  1989\n",
       "5                     Ya ba yu xin niang  1971"
      ]
     },
     "execution_count": 15,
     "metadata": {},
     "output_type": "execute_result"
    }
   ],
   "source": [
    "# IMPORTAR PANDAS USANDO UM ALIAS\n",
    "import pandas as pd\n",
    "\n",
    "# IMPORTAR UM CONTADOR PARA UM PASSO MAIS Â FRENTE\n",
    "from collections import Counter\n",
    "\n",
    "# CARREGAR COMO DATA FRAME DE PANDAS OS TÍTULOS\n",
    "csv_titulos_imdb = pd.read_csv('05_05_imdb_titulos.csv')\n",
    "\n",
    "# MOSTRAR OS SEUS 5 PRIMEIRO REGISTOS\n",
    "csv_titulos_imdb.head(6)\n"
   ]
  },
  {
   "cell_type": "code",
   "execution_count": 3,
   "metadata": {},
   "outputs": [
    {
     "data": {
      "text/html": [
       "<div>\n",
       "<style scoped>\n",
       "    .dataframe tbody tr th:only-of-type {\n",
       "        vertical-align: middle;\n",
       "    }\n",
       "\n",
       "    .dataframe tbody tr th {\n",
       "        vertical-align: top;\n",
       "    }\n",
       "\n",
       "    .dataframe thead th {\n",
       "        text-align: right;\n",
       "    }\n",
       "</style>\n",
       "<table border=\"1\" class=\"dataframe\">\n",
       "  <thead>\n",
       "    <tr style=\"text-align: right;\">\n",
       "      <th></th>\n",
       "      <th>title</th>\n",
       "      <th>year</th>\n",
       "      <th>name</th>\n",
       "      <th>type</th>\n",
       "      <th>character</th>\n",
       "      <th>n</th>\n",
       "    </tr>\n",
       "  </thead>\n",
       "  <tbody>\n",
       "    <tr>\n",
       "      <th>0</th>\n",
       "      <td>Closet Monster</td>\n",
       "      <td>2015</td>\n",
       "      <td>Buffy #1</td>\n",
       "      <td>actor</td>\n",
       "      <td>Buffy 4</td>\n",
       "      <td>31.0</td>\n",
       "    </tr>\n",
       "    <tr>\n",
       "      <th>1</th>\n",
       "      <td>Suuri illusioni</td>\n",
       "      <td>1985</td>\n",
       "      <td>Homo $</td>\n",
       "      <td>actor</td>\n",
       "      <td>Guests</td>\n",
       "      <td>22.0</td>\n",
       "    </tr>\n",
       "    <tr>\n",
       "      <th>2</th>\n",
       "      <td>Battle of the Sexes</td>\n",
       "      <td>2017</td>\n",
       "      <td>$hutter</td>\n",
       "      <td>actor</td>\n",
       "      <td>Bobby Riggs Fan</td>\n",
       "      <td>10.0</td>\n",
       "    </tr>\n",
       "    <tr>\n",
       "      <th>3</th>\n",
       "      <td>Secret in Their Eyes</td>\n",
       "      <td>2015</td>\n",
       "      <td>$hutter</td>\n",
       "      <td>actor</td>\n",
       "      <td>2002 Dodger Fan</td>\n",
       "      <td>NaN</td>\n",
       "    </tr>\n",
       "    <tr>\n",
       "      <th>4</th>\n",
       "      <td>Steve Jobs</td>\n",
       "      <td>2015</td>\n",
       "      <td>$hutter</td>\n",
       "      <td>actor</td>\n",
       "      <td>1988 Opera House Patron</td>\n",
       "      <td>NaN</td>\n",
       "    </tr>\n",
       "    <tr>\n",
       "      <th>5</th>\n",
       "      <td>Straight Outta Compton</td>\n",
       "      <td>2015</td>\n",
       "      <td>$hutter</td>\n",
       "      <td>actor</td>\n",
       "      <td>Club Patron</td>\n",
       "      <td>NaN</td>\n",
       "    </tr>\n",
       "  </tbody>\n",
       "</table>\n",
       "</div>"
      ],
      "text/plain": [
       "                    title  year      name   type                character  \\\n",
       "0          Closet Monster  2015  Buffy #1  actor                  Buffy 4   \n",
       "1         Suuri illusioni  1985    Homo $  actor                   Guests   \n",
       "2     Battle of the Sexes  2017   $hutter  actor          Bobby Riggs Fan   \n",
       "3    Secret in Their Eyes  2015   $hutter  actor          2002 Dodger Fan   \n",
       "4              Steve Jobs  2015   $hutter  actor  1988 Opera House Patron   \n",
       "5  Straight Outta Compton  2015   $hutter  actor              Club Patron   \n",
       "\n",
       "      n  \n",
       "0  31.0  \n",
       "1  22.0  \n",
       "2  10.0  \n",
       "3   NaN  \n",
       "4   NaN  \n",
       "5   NaN  "
      ]
     },
     "execution_count": 3,
     "metadata": {},
     "output_type": "execute_result"
    }
   ],
   "source": [
    "# CARREGAR COMO DATA FRAME DE PANDAS O ELENCO\n",
    "elenco_imdb = pd.read_csv('05_05_imdb_elenco.csv')\n",
    "\n",
    "# MOSTRAR OS SEUS 5 PRIMEIRO REGISTOS\n",
    "elenco_imdb.head(6)"
   ]
  },
  {
   "cell_type": "code",
   "execution_count": 4,
   "metadata": {},
   "outputs": [
    {
     "name": "stdout",
     "output_type": "stream",
     "text": [
      "Número de Registos de Títulos - 230407\n",
      "\n",
      "Número de Registos de Elenco - 3564650\n"
     ]
    }
   ],
   "source": [
    "# MOSTRAR O NÚMERO DE REGISTOS\n",
    "print(f'Número de Registos de Títulos - {len(csv_titulos_imdb)}')\n",
    "print(f'\\nNúmero de Registos de Elenco - {len(elenco_imdb)}')"
   ]
  },
  {
   "cell_type": "code",
   "execution_count": 5,
   "metadata": {},
   "outputs": [
    {
     "name": "stdout",
     "output_type": "stream",
     "text": [
      "\n",
      "5 Filmes mais antigos: \n",
      "                                                    title  year\n",
      "13229                                          Miss Jerry  1894\n",
      "103233                                 The Startled Lover  1898\n",
      "133020     Reproduction of the Corbett and Jeffries Fight  1899\n",
      "51528                                Family Troubles (II)  1900\n",
      "195127  Pierrot's Problem, or How to Make a Fat Wife O...  1900\n"
     ]
    }
   ],
   "source": [
    "# MOSTRAR 0S 5 TÍTULOS MAIS ANTIGOS\n",
    "filmesAntigos = csv_titulos_imdb.sort_values(by=['year'])[:5]\n",
    "print(f\"\\n5 Filmes mais antigos: \\n{filmesAntigos}\")"
   ]
  },
  {
   "cell_type": "code",
   "execution_count": 59,
   "metadata": {},
   "outputs": [
    {
     "name": "stdout",
     "output_type": "stream",
     "text": [
      "                                  title  year\n",
      "3903         Bonnie & Clyde vs. Dracula  2008\n",
      "4851                   House of Dracula  1945\n",
      "13441                    Batman Dracula  1964\n",
      "15371   Young-guwa heubhyeolgwi dracula  1992\n",
      "20794                 Terror of Dracula  2012\n",
      "...                                 ...   ...\n",
      "214826                    Dracula's Dog  1978\n",
      "221137                      Dracula Now  2015\n",
      "224233     The Satanic Rites of Dracula  1973\n",
      "228121                   Son of Dracula  1974\n",
      "229161               Dracula and Stoker  2012\n",
      "\n",
      "[84 rows x 2 columns]\n"
     ]
    },
    {
     "data": {
      "text/plain": [
       "title    84\n",
       "year     84\n",
       "dtype: int64"
      ]
     },
     "execution_count": 59,
     "metadata": {},
     "output_type": "execute_result"
    }
   ],
   "source": [
    "# MOSTRAR OS FILMES QUE CONTÉM DRÁCULA NO TÍTULO E MOSTRAR QUANTOS SÃO\n",
    "dracula = csv_titulos_imdb[csv_titulos_imdb['title'].str.contains('Dracula', case = False)]\n",
    "print(dracula)\n",
    "dracula.count()"
   ]
  },
  {
   "cell_type": "code",
   "execution_count": 80,
   "metadata": {},
   "outputs": [
    {
     "name": "stdout",
     "output_type": "stream",
     "text": [
      "Hamlet                  19\n",
      "Carmen                  16\n",
      "Macbeth                 15\n",
      "Maya                    11\n",
      "The Outsider            11\n",
      "Hero                    11\n",
      "Othello                 11\n",
      "The Three Musketeers    11\n",
      "Anna                    10\n",
      "Vengeance               10\n",
      "Name: title, dtype: int64\n"
     ]
    }
   ],
   "source": [
    "# MOSTRAR OS 10 TÍTULOS MAIS COMUNS\n",
    "titulosComuns = csv_titulos_imdb.title.value_counts().head(10)\n",
    "print(titulosComuns)"
   ]
  },
  {
   "cell_type": "code",
   "execution_count": 61,
   "metadata": {},
   "outputs": [
    {
     "name": "stdout",
     "output_type": "stream",
     "text": [
      "                   title  year\n",
      "124702  Romeo and Juliet  1916\n"
     ]
    }
   ],
   "source": [
    "# MOSTRAR QUAL FOI O PRIMEIRO FILME CHAMADO ROMEO AND JULIET\n",
    "romeoJuliet = csv_titulos_imdb[csv_titulos_imdb['title'] == 'Romeo and Juliet'].sort_values('year').head(1)\n",
    "print(romeoJuliet)"
   ]
  },
  {
   "cell_type": "code",
   "execution_count": 62,
   "metadata": {},
   "outputs": [
    {
     "name": "stdout",
     "output_type": "stream",
     "text": [
      "                                         title  year\n",
      "88003                             The Exorcist  1973\n",
      "49658                  O Exorcista de Mulheres  1974\n",
      "118920     Satanico Pandemonium: La Sexorcista  1975\n",
      "140519                Exorcist II: The Heretic  1977\n",
      "220073                        Kung Fu Exorcist  1978\n",
      "17375                         The Exorcist III  1990\n",
      "132451                        Teenage Exorcist  1991\n",
      "117797                 Exorcist: The Beginning  2004\n",
      "94189        Dominion: Prequel to the Exorcist  2005\n",
      "209250  Costa Chica: Confession of an Exorcist  2006\n",
      "86354                      Exorcist Chronicles  2007\n",
      "130686                      The Disco Exorcist  2011\n",
      "57932                      Exorcist Chronicles  2013\n",
      "69974                           Shark Exorcist  2015\n",
      "51101                            Bad Exorcists  2015\n",
      "151850                              Exorcistas  2015\n",
      "60700                      Accidental Exorcist  2016\n",
      "161093                       American Exorcist  2016\n",
      "195615                    Diary of an Exorcist  2016\n",
      "228642                  Exorcist House of Evil  2016\n"
     ]
    }
   ],
   "source": [
    "# LISTAR TODOS OS FILMES QUE CONTEM A PALAVRA EXORCIST, EM ORDEM CRESCENTE\n",
    "exorcist = csv_titulos_imdb[csv_titulos_imdb['title'].str.contains('Exorcist', case = False)].sort_values('year')\n",
    "print(exorcist)"
   ]
  },
  {
   "cell_type": "code",
   "execution_count": 63,
   "metadata": {},
   "outputs": [
    {
     "name": "stdout",
     "output_type": "stream",
     "text": [
      "title    1081\n",
      "year     1081\n",
      "dtype: int64\n"
     ]
    }
   ],
   "source": [
    "# MOSTRAR QUANTOS FILMES FORAM FEITOS EM 1950\n",
    "filmes1950 = csv_titulos_imdb[csv_titulos_imdb['year'] == 1950].sort_values('year').count()\n",
    "print(filmes1950)"
   ]
  },
  {
   "cell_type": "code",
   "execution_count": 64,
   "metadata": {},
   "outputs": [
    {
     "name": "stdout",
     "output_type": "stream",
     "text": [
      "title    2569\n",
      "year     2569\n",
      "dtype: int64\n"
     ]
    }
   ],
   "source": [
    "# MOSTRAR QUANTOS FILMES FORAM FEITOS ENTRE 1950 E 1959\n",
    "filmes1950_1959 = csv_titulos_imdb[csv_titulos_imdb['year'].isin([1950, 1960])].sort_values('year').count()\n",
    "print(filmes1950_1959)\n"
   ]
  },
  {
   "cell_type": "code",
   "execution_count": 66,
   "metadata": {},
   "outputs": [
    {
     "name": "stdout",
     "output_type": "stream",
     "text": [
      "                 title  year                  name     type  \\\n",
      "51214    The Godfather  1972       Chris Anastasio    actor   \n",
      "102809   The Godfather  1972      Norm Bacchiocchi    actor   \n",
      "220852   The Godfather  1972             Rudy Bond    actor   \n",
      "248000   The Godfather  1972         Marlon Brando    actor   \n",
      "248738   The Godfather  1972            Max Brandt    actor   \n",
      "...                ...   ...                   ...      ...   \n",
      "3137607  The Godfather  1972          Carol Morley  actress   \n",
      "3360381  The Godfather  1972       Ardell Sheridan  actress   \n",
      "3363276  The Godfather  1972           Talia Shire  actress   \n",
      "3390198  The Godfather  1972    Filomena Spagnuolo  actress   \n",
      "3399922  The Godfather  1972  Simonetta Stefanelli  actress   \n",
      "\n",
      "                               character     n  \n",
      "51214                          Policeman   NaN  \n",
      "102809             Luca Brasi's Assassin   NaN  \n",
      "220852                             Cuneo  15.0  \n",
      "248000                 Don Vito Corleone   1.0  \n",
      "248738   Extra in Furniture-Moving Scene   NaN  \n",
      "...                                  ...   ...  \n",
      "3137607                      Night Nurse   NaN  \n",
      "3360381                    Mrs. Clemenza  29.0  \n",
      "3363276                           Connie  12.0  \n",
      "3390198           Extra in Wedding Scene   NaN  \n",
      "3399922    Apollonia - Sicilian Sequence  30.0  \n",
      "\n",
      "[76 rows x 6 columns]\n"
     ]
    }
   ],
   "source": [
    "# MOSTRAR TODOS OS PAPEIS DA TRILOGIA THE GODFATHER\n",
    "godfather = elenco_imdb[elenco_imdb['title'] == 'The Godfather']\n",
    "print(godfather)"
   ]
  },
  {
   "cell_type": "code",
   "execution_count": 68,
   "metadata": {},
   "outputs": [
    {
     "name": "stdout",
     "output_type": "stream",
     "text": [
      "           title  year                   name     type  \\\n",
      "485197   Dracula  1958          Peter Cushing    actor   \n",
      "1242307  Dracula  1958        Christopher Lee    actor   \n",
      "1242308  Dracula  1958        Christopher Lee    actor   \n",
      "822398   Dracula  1958          Michael Gough    actor   \n",
      "3410427  Dracula  1958      Melissa Stribling  actress   \n",
      "3069196  Dracula  1958            Carol Marsh  actress   \n",
      "2677557  Dracula  1958            Olga Dickie  actress   \n",
      "2220986  Dracula  1958        John Van Eyssen    actor   \n",
      "2777216  Dracula  1958          Valerie Gaunt  actress   \n",
      "2731182  Dracula  1958            Janina Faye  actress   \n",
      "2444220  Dracula  1958         Barbara Archer  actress   \n",
      "1285506  Dracula  1958     Charles Lloyd Pack    actor   \n",
      "1453367  Dracula  1958         George Merritt    actor   \n",
      "2357769  Dracula  1958      George Woodbridge    actor   \n",
      "171732   Dracula  1958          George Benson    actor   \n",
      "1347640  Dracula  1958         Miles Malleson    actor   \n",
      "148496   Dracula  1958       Geoffrey Bayldon    actor   \n",
      "423307   Dracula  1958              Paul Cole    actor   \n",
      "1475047  Dracula  1958              Guy Mills    actor   \n",
      "1513434  Dracula  1958  Richard (VIII) Morgan    actor   \n",
      "1524497  Dracula  1958      John (II) Mossman    actor   \n",
      "\n",
      "                        character     n  \n",
      "485197         Doctor Van Helsing   1.0  \n",
      "1242307                   Dracula   2.0  \n",
      "1242308             Count Dracula   2.0  \n",
      "822398                     Arthur   3.0  \n",
      "3410427                      Mina   4.0  \n",
      "3069196                      Lucy   5.0  \n",
      "2677557                     Gerda   6.0  \n",
      "2220986                  Jonathan   7.0  \n",
      "2777216             Vampire Woman   8.0  \n",
      "2731182                     Tania   9.0  \n",
      "2444220                      Inga  10.0  \n",
      "1285506             Doctor Seward  11.0  \n",
      "1453367                 Policeman  12.0  \n",
      "2357769                  Landlord  13.0  \n",
      "171732                   Official  14.0  \n",
      "1347640                Undertaker  15.0  \n",
      "148496                     Porter  16.0  \n",
      "423307                        Lad  17.0  \n",
      "1475047              Coach Driver   NaN  \n",
      "1513434  Coach Driver's Companion   NaN  \n",
      "1524497             Hearse Driver   NaN  \n"
     ]
    }
   ],
   "source": [
    "# MOSTRAR O ELENCO DO FILME DRACULA DE 1958, ORDENADO PELA CLASSIFICAÇÃO N\n",
    "draculaElenco = elenco_imdb\n",
    "draculaElenco = draculaElenco[(draculaElenco.title == \"Dracula\") & (draculaElenco.year == 1958)] \n",
    "draculaElenco = draculaElenco.sort_values(\"n\")\n",
    "print(draculaElenco)"
   ]
  },
  {
   "cell_type": "code",
   "execution_count": 75,
   "metadata": {},
   "outputs": [
    {
     "data": {
      "text/plain": [
       "title        20\n",
       "year         20\n",
       "name         20\n",
       "type         20\n",
       "character    20\n",
       "n            20\n",
       "dtype: int64"
      ]
     },
     "execution_count": 75,
     "metadata": {},
     "output_type": "execute_result"
    }
   ],
   "source": [
    "# MOSTRAR QUANTOS PAPEIS BRUCE WAYNE TEVE COMO PROTAGONISTA\n",
    "bruceWayne1 = elenco_imdb\n",
    "bruceWayne1 = bruceWayne1[bruceWayne1.character == \"Bruce Wayne\"]\n",
    "bruceWayne1 = bruceWayne1[bruceWayne1.n == 1]\n",
    "bruceWayne1.count()"
   ]
  },
  {
   "cell_type": "code",
   "execution_count": 71,
   "metadata": {},
   "outputs": [
    {
     "name": "stdout",
     "output_type": "stream",
     "text": [
      "title        103\n",
      "year         103\n",
      "name         103\n",
      "type         103\n",
      "character    103\n",
      "n             95\n",
      "dtype: int64\n"
     ]
    }
   ],
   "source": [
    "# MOSTRAR QUANTOS PAPEIS ROBERT DE NIRO FEZ NA SUA CARREIRA\n",
    "robertDeNiro = elenco_imdb[elenco_imdb[\"name\"] == \"Robert De Niro\"].count()\n",
    "print(robertDeNiro)"
   ]
  },
  {
   "cell_type": "code",
   "execution_count": 76,
   "metadata": {},
   "outputs": [
    {
     "name": "stdout",
     "output_type": "stream",
     "text": [
      "                            title  year             name   type  \\\n",
      "944074                 Number One  1969  Charlton Heston  actor   \n",
      "944077         Planet of the Apes  1968  Charlton Heston  actor   \n",
      "944050               Counterpoint  1967  Charlton Heston  actor   \n",
      "944120                 Will Penny  1967  Charlton Heston  actor   \n",
      "944066                   Khartoum  1966  Charlton Heston  actor   \n",
      "944068               Major Dundee  1965  Charlton Heston  actor   \n",
      "944085  The Agony and the Ecstasy  1965  Charlton Heston  actor   \n",
      "944111               The War Lord  1965  Charlton Heston  actor   \n",
      "944038          55 Days at Peking  1963  Charlton Heston  actor   \n",
      "944052               Diamond Head  1962  Charlton Heston  actor   \n",
      "944101  The Pigeon That Took Rome  1962  Charlton Heston  actor   \n",
      "944102  The Pigeon That Took Rome  1962  Charlton Heston  actor   \n",
      "944103  The Pigeon That Took Rome  1962  Charlton Heston  actor   \n",
      "944054                     El Cid  1961  Charlton Heston  actor   \n",
      "\n",
      "                            character    n  \n",
      "944074               Ron 'Cat' Catlan  1.0  \n",
      "944077                  George Taylor  1.0  \n",
      "944050                   Lionel Evans  1.0  \n",
      "944120                     Will Penny  1.0  \n",
      "944066  Gen. Charles 'Chinese' Gordon  1.0  \n",
      "944068      Major Amos Charles Dundee  1.0  \n",
      "944085                   Michelangelo  1.0  \n",
      "944111                      Chrysagon  1.0  \n",
      "944038                Maj. Matt Lewis  1.0  \n",
      "944052         Richard 'King' Howland  1.0  \n",
      "944101        Captain Paul MacDougall  1.0  \n",
      "944102               Benny the Snatch  1.0  \n",
      "944103                       Narrator  1.0  \n",
      "944054        El Cid Rodrigo de Vivar  1.0  \n"
     ]
    }
   ],
   "source": [
    "# LISTAR OS PAPEIS DE PROTAGONISTA DE CHARLTON HESTON NOS ANOS 60, DE FORMA DESCENDENTE\n",
    "charltonHeston = elenco_imdb\n",
    "charltonHeston = charltonHeston[charltonHeston.name == \"Charlton Heston\"]\n",
    "charltonHeston = charltonHeston[charltonHeston.n == 1]\n",
    "charltonHeston = charltonHeston[(charltonHeston.year >=1960) & (charltonHeston.year <= 1969)]\n",
    "charltonHeston = charltonHeston.sort_values('year',ascending=False)\n",
    "print(charltonHeston)"
   ]
  },
  {
   "cell_type": "code",
   "execution_count": 78,
   "metadata": {},
   "outputs": [
    {
     "name": "stdout",
     "output_type": "stream",
     "text": [
      "title        29365\n",
      "year         29365\n",
      "name         29365\n",
      "type         29365\n",
      "character    29365\n",
      "n            15488\n",
      "dtype: int64\n"
     ]
    }
   ],
   "source": [
    "# MOSTRAR QUANTOS PAPEIS PARA ATORES HOUVE NA DÉCADA DE 50\n",
    "papeisAtores50 = elenco_imdb[(elenco_imdb[\"type\"] == \"actor\") & elenco_imdb[\"year\"].isin([1950, 1960])].count()\n",
    "print(papeisAtores50)"
   ]
  },
  {
   "cell_type": "code",
   "execution_count": 79,
   "metadata": {},
   "outputs": [
    {
     "name": "stdout",
     "output_type": "stream",
     "text": [
      "title        10788\n",
      "year         10788\n",
      "name         10788\n",
      "type         10788\n",
      "character    10788\n",
      "n             6849\n",
      "dtype: int64\n"
     ]
    }
   ],
   "source": [
    "# MOSTRAR QUANTOS PAPEIS PARA ATRIZES HOUVE NA DÉCADA DE 50\n",
    "papeisAtrizes50 = elenco_imdb[(elenco_imdb[\"type\"] == \"actress\") & elenco_imdb[\"year\"].isin([1950, 1960])].count()\n",
    "print(papeisAtrizes50)"
   ]
  }
 ],
 "metadata": {
  "anaconda-cloud": {},
  "kernelspec": {
   "display_name": "Python 3 (ipykernel)",
   "language": "python",
   "name": "python3"
  },
  "language_info": {
   "codemirror_mode": {
    "name": "ipython",
    "version": 3
   },
   "file_extension": ".py",
   "mimetype": "text/x-python",
   "name": "python",
   "nbconvert_exporter": "python",
   "pygments_lexer": "ipython3",
   "version": "3.9.13"
  }
 },
 "nbformat": 4,
 "nbformat_minor": 1
}
