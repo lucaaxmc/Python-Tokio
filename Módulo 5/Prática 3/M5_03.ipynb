{
 "cells": [
  {
   "cell_type": "markdown",
   "metadata": {},
   "source": [
    "# Exercicios Modulo 5. JSON (Soluções)\n",
    "\n",
    "Considerações a ter em conta: \n",
    "\n",
    "* Guardar odocumento de soluções comoseguinte formatopara entrega: __M2_01_nome_apelido1_apelido2__\n",
    "* Realizar os exercicios com as ferramentas utilizadas nas aulas. \n",
    "* Comentar o código\n",
    "* Utilizar nomesde variáveis apropriados. Se vamosguardar umanota, chamamos a essa variável nota, não n oux."
   ]
  },
  {
   "cell_type": "markdown",
   "metadata": {},
   "source": [
    "# JSON (JavaScript Object Notation)"
   ]
  },
  {
   "cell_type": "markdown",
   "metadata": {},
   "source": [
    "1) Tenha em consideração o seguinte JSON String:\n",
    "\n",
    "{\"chefe_projeto\":{\"Nome\":\"Juan\",\"Idade\":28,\"Experiência\": [\"Gestão\",\"Finanças\",\"Basesdedados\"],\"Residência\": \n",
    "\"Madrid\",\"HorasProjeto\":3500},\"funcionários\":[{\"Nome\":\"Elena\",\"Idade\":26,\"Experiência\":\n",
    "[\"JavaScript\",\"Python\"],\"Residência\":\"Madrid\",\"HorasProjeto\":500},{\"Nome\":\"Luis\",\"Idade\":31,\"Experiência\": \n",
    "[\"Django\",\"Flask\",\"Pyramid\"],\"Residência\":\"Barcelona\",\"HorasProjeto\":1100}]}\n",
    "\n",
    "\n",
    "* Se necessário, utilizar um visualizador de JSON para o entender.\n",
    "* O objetivo é criar um dicionário com todos os dados e estruturas internas necessárias para que seja igual ao JSON String.\n",
    "* Criar estruturas mais pequenas até que se chegue a formar o mesmo JSON string que vemos acima.\n",
    "* Armazenar esta estrutura (o dicionário) numa variável.\n",
    "* Comprovar o seu tipo e mostrar por ecrã.\n",
    "* Criar duas variáveis: horas_funcionários e horas_chefe\n",
    "* Extrair as horas do chefe e introduzir na sua variável.\n",
    "* Criar um ciclo que percorra a totalidade de funcionários que tem na estrutura e para cada funcionário somar as suas horas na sua variável correspondente.\n",
    "* Somar todas as horas e imprimir."
   ]
  },
  {
   "cell_type": "code",
   "execution_count": 8,
   "metadata": {},
   "outputs": [
    {
     "name": "stdout",
     "output_type": "stream",
     "text": [
      "\n",
      "Json: <class 'str'> - Variavel Dicionario: <class 'dict'>\n",
      "\n",
      "{\"chefe_projeto\": {\"Nome\": \"Juan\", \"Idade\": 28, \"Experiencia\": [\"Gestao\", \"Financas\", \"Basesdedados\"], \"Residencia\": \"Madrid\", \"HorasdeProjetos\": 3500}, \"funcionarios\": [{\"Nome\": \"Elena\", \"Idade\": 26, \"Experiencia\": [\"JavaScript\", \"Python\"], \"Residencia\": \"Barcelona\", \"HorasProjeto\": 500}, {\"Nome\": \"Luis\", \"Idade\": 31, \"Experiencia\": [\"Django\", \"Flask\", \"Pyramid\"], \"Residencia\": \"Barcelona\", \"HorasProjeto\": 1100}]}\n",
      "Horas Do Funcionario:  500\n",
      "Horas Do Funcionario:  1100\n",
      "\n",
      "Hora Total dos Funcionarios: 1600\n",
      "\n",
      "Horas do Chefe: 3500\n"
     ]
    }
   ],
   "source": [
    "import json\n",
    "\n",
    "experienciaChefe = [\"Gestao\", \"Financas\", \"Basesdedados\"]\n",
    "\n",
    "experienciaFuncionario1 = [\"JavaScript\", \"Python\"]\n",
    "\n",
    "experienciaFuncionario2 = [\"Django\", \"Flask\", \"Pyramid\"]\n",
    "\n",
    "chefeProjeto = {\"Nome\":\"Juan\", \"Idade\":28, \"Experiencia\":experienciaChefe, \"Residencia\":\"Madrid\", \"HorasdeProjetos\":3500}\n",
    "funcionario1 = {\"Nome\":\"Elena\", \"Idade\":26, \"Experiencia\":experienciaFuncionario1, \"Residencia\":\"Barcelona\", \"HorasProjeto\":500}\n",
    "funcionario2 = {\"Nome\":\"Luis\", \"Idade\":31, \"Experiencia\":experienciaFuncionario2, \"Residencia\":\"Barcelona\", \"HorasProjeto\":1100}\n",
    "\n",
    "dict_JSON = {\"chefe_projeto\":chefeProjeto, \"funcionarios\":[funcionario1, funcionario2]}\n",
    "\n",
    "json_funcionarios = json.dumps(dict_JSON)\n",
    "print(f\"\\nJson: {type(json_funcionarios)} - Variavel Dicionario: {type(dict_JSON)}\\n\")\n",
    "print(json_funcionarios)\n",
    "\n",
    "horasChefe = dict_Json[\"chefe_projeto\"][\"HorasdeProjetos\"]\n",
    "horasFuncionarios = 0\n",
    "for funcionario in dict_Json[\"funcionarios\"]:\n",
    "    horasFuncionarios += funcionario[\"HorasProjeto\"]\n",
    "    print(\"Horas Do Funcionario: \",funcionario[\"HorasProjeto\"])\n",
    "    \n",
    "print(\"\\nHora Total dos Funcionarios:\", horasFuncionarios)\n",
    "print(\"\\nHoras do Chefe:\",horasChefe)"
   ]
  },
  {
   "cell_type": "markdown",
   "metadata": {},
   "source": [
    "2) No exercício anterior trabalhou-se com um dicionário que nós mesmos/as criamos. Converter para um formato JSON String, imprimir o seu tipo e os seus dados. Para que serve este formato?"
   ]
  },
  {
   "cell_type": "code",
   "execution_count": 9,
   "metadata": {},
   "outputs": [
    {
     "name": "stdout",
     "output_type": "stream",
     "text": [
      "Tipo: <class 'str'>\n",
      "Dados: {\"chefe_projeto\": {\"Nome\": \"Juan\", \"Idade\": 28, \"Experiencia\": [\"Gestao\", \"Financas\", \"Basesdedados\"], \"Residencia\": \"Madrid\", \"HorasdeProjetos\": 3500}, \"funcionarios\": [{\"Nome\": \"Elena\", \"Idade\": 26, \"Experiencia\": [\"JavaScript\", \"Python\"], \"Residencia\": \"Barcelona\", \"HorasProjeto\": 500}, {\"Nome\": \"Luis\", \"Idade\": 31, \"Experiencia\": [\"Django\", \"Flask\", \"Pyramid\"], \"Residencia\": \"Barcelona\", \"HorasProjeto\": 1100}]}\n",
      "\n",
      "O formato JSON é bastante importante para a transferência de informações entre diferentes tecnologias e linguagens,\n",
      "uma vez que qualquer linguagem de programação o consegue ler.\n"
     ]
    }
   ],
   "source": [
    "import json\n",
    "\n",
    "experienciaChefe = [\"Gestao\", \"Financas\", \"Basesdedados\"]\n",
    "\n",
    "experienciaFuncionario1 = [\"JavaScript\", \"Python\"]\n",
    "\n",
    "experienciaFuncionario2 = [\"Django\", \"Flask\", \"Pyramid\"]\n",
    "\n",
    "chefeProjeto = {\"Nome\":\"Juan\", \"Idade\":28, \"Experiencia\":experienciaChefe, \"Residencia\":\"Madrid\", \"HorasdeProjetos\":3500}\n",
    "funcionario1 = {\"Nome\":\"Elena\", \"Idade\":26, \"Experiencia\":experienciaFuncionario1, \"Residencia\":\"Barcelona\", \"HorasProjeto\":500}\n",
    "funcionario2 = {\"Nome\":\"Luis\", \"Idade\":31, \"Experiencia\":experienciaFuncionario2, \"Residencia\":\"Barcelona\", \"HorasProjeto\":1100}\n",
    "\n",
    "dict_JSON = {\"chefe_projeto\":chefeProjeto, \"funcionarios\":[funcionario1, funcionario2]}\n",
    "\n",
    "json_funcionarios = json.dumps(dict_JSON)\n",
    "print(f\"Tipo: {type(json_funcionarios)}\\nDados: {json_funcionarios}\")\n",
    "\n",
    "print(\"\"\"\\nO formato JSON é bastante importante para a transferência de informações entre diferentes tecnologias e linguagens,\n",
    "uma vez que qualquer linguagem de programação o consegue ler.\"\"\")"
   ]
  },
  {
   "cell_type": "markdown",
   "metadata": {},
   "source": [
    "3) Por vezes encontramos JSON que se tem de modificar. Para isso, temos de descodificá-los, fazer as modificações pertinentes e voltar a codificá-los para os deixar como JSON de novo. No seguinte exemplo podemos ver que há alguns erros:\n",
    "\n",
    "* Ao Superman falta-lhe como poder \"Voar\"\n",
    "* No Batman, a idade é 35, não 350\n",
    "* No Batman, retire-lhe o poder de \"Raio laser\"\n",
    "* No Wonder Woman falta-lhe o poder \"Laço da verdade\"\n",
    "\n",
    "Depois de corrigir, sem criar um novo, voltar a transformar estes dados num JSON String"
   ]
  },
  {
   "cell_type": "code",
   "execution_count": 14,
   "metadata": {},
   "outputs": [],
   "source": [
    "# NÃO UTILIZE ESTE BLOCO\n",
    "\n",
    "superherois = {\n",
    "\t\"nomedaEquipa\": \"Super Hero Squad\",\n",
    "\t\"cidade\": \"Metro City\",\n",
    "\t\"formado\": 2016,\n",
    "\t\"baseSecreta\": \"Super Tower\",\n",
    "\t\"activo\": \"Sim\",\n",
    "\t\"membros\": [\n",
    "\t\t{\n",
    "\t\t\t\"nome\": \"SuperMan\",\n",
    "\t\t\t\"idade\": 29,\n",
    "\t\t\t\"identidadeSecreta\": \"Clart Kent\",\n",
    "\t\t\t\"poderes\": [\n",
    "\t\t\t\t\"Super força\",\n",
    "\t\t\t\t\"Super velocidade\",\n",
    "\t\t\t\t\"Raio laser\"\n",
    "\t\t\t]\n",
    "\t\t},\n",
    "\t\t{\n",
    "\t\t\t\"nome\": \"Batman\",\n",
    "\t\t\t\"idade\": 350,\n",
    "\t\t\t\"identidadeSecreta\": \"Bruce Wayne\",\n",
    "\t\t\t\"poderes\": [\n",
    "\t\t\t\t\"Detective\",\n",
    "\t\t\t\t\"Dinheiro\",\n",
    "\t\t\t\t\"Raio laser\"\n",
    "\t\t\t]\n",
    "\t\t},\n",
    "\t\t{\n",
    "\t\t\t\"nome\": \"Wonder Woman\",\n",
    "\t\t\t\"idade\": 900,\n",
    "\t\t\t\"identidadeSecreta\": \"Diana de Temiscira\",\n",
    "\t\t\t\"poderes\": [\n",
    "\t\t\t\t\"Super força\",\n",
    "\t\t\t\t\"Super velocidade\"\n",
    "\t\t\t]\n",
    "\t\t}\n",
    "\t]\n",
    "}"
   ]
  },
  {
   "cell_type": "code",
   "execution_count": 15,
   "metadata": {},
   "outputs": [
    {
     "name": "stdout",
     "output_type": "stream",
     "text": [
      "{'nome': 'SuperMan', 'idade': 29, 'identidadeSecreta': 'Clart Kent', 'poderes': ['Super força', 'Super velocidade', 'Raio laser', 'Voar']}\n",
      "{'nome': 'Batman', 'idade': 35, 'identidadeSecreta': 'Bruce Wayne', 'poderes': ['Detective', 'Dinheiro', 'Raio laser']}\n",
      "{'nome': 'Batman', 'idade': 35, 'identidadeSecreta': 'Bruce Wayne', 'poderes': ['Detective', 'Dinheiro']}\n",
      "{'nome': 'Wonder Woman', 'idade': 900, 'identidadeSecreta': 'Diana de Temiscira', 'poderes': ['Super força', 'Super velocidade', 'Laço da Verdade']}\n",
      "<class 'str'>\n"
     ]
    }
   ],
   "source": [
    "import json\n",
    "dict_superherois = superherois\n",
    "\n",
    "supermanVoar = dict_superherois[\"membros\"][0]\n",
    "supermanVoar['poderes'].append('Voar')\n",
    "print(supermanVoar)\n",
    "\n",
    "batmanIdade = dict_superherois['membros'][1]\n",
    "batmanIdade['idade'] = 35\n",
    "print(batmanIdade)\n",
    "\n",
    "batmanRaioLaser = dict_superherois[\"membros\"][1]\n",
    "batmanRaioLaser['poderes'].pop(-1)\n",
    "print(batmanRaioLaser)\n",
    "\n",
    "WonderWomanLaco = dict_superherois[\"membros\"][2]\n",
    "WonderWomanLaco['poderes'].append('Laço da Verdade')\n",
    "print(WonderWomanLaco)\n",
    "\n",
    "\n",
    "json_Superherois = json.dumps(dict_superherois)\n",
    "print(type(json_Superherois))"
   ]
  },
  {
   "cell_type": "markdown",
   "metadata": {},
   "source": [
    "4) Com base no exercício anterior, modificar a estrutura de **super_herois** para conseguir que **membros** tenham dois ramos: \"membrosAtivos\" e \"membrosInativos\", onde cada um destes ramos, armazenem os heróis que estão no ativo e os que não. Neste caso, introduzimos SuperMan e WonderWoman na lista de ativos e Batman na de inativos. Esta modificação podemos fazê-la como quisermos: ou programando as estruturas de dados e adicionar ao JSON ou fazer a alteração diretamente no JSON. Ao finalizar, podemos comprovar o nosso JSON num visualizador online.(http://jsonviewer.stack.hu/)"
   ]
  },
  {
   "cell_type": "code",
   "execution_count": 16,
   "metadata": {},
   "outputs": [
    {
     "name": "stdout",
     "output_type": "stream",
     "text": [
      "{'nomedaEquipa': 'Super Hero Squad', 'cidade': 'Metro City', 'formado': 2016, 'baseSecreta': 'Super Tower', 'activo': 'Sim', 'membrosAtivos': [{'nome': 'SuperMan', 'idade': 29, 'identidadeSecreta': 'Clart Kent', 'poderes': ['Super força', 'Super velocidade', 'Raio laser', 'Voar']}, {'nome': 'Wonder Woman', 'idade': 900, 'identidadeSecreta': 'Diana de Temiscira', 'poderes': ['Super força', 'Super velocidade', 'Laço da Verdade']}], 'membrosInativos': [{'nome': 'Batman', 'idade': 35, 'identidadeSecreta': 'Bruce Wayne', 'poderes': ['Detective', 'Dinheiro']}]}\n"
     ]
    }
   ],
   "source": [
    "atividade_super = json.loads(json_Superherois)\n",
    "\n",
    "atividade_super['membrosAtivos']= [atividade_super['membros'][0],atividade_super['membros'][2]]\n",
    "\n",
    "atividade_super['membrosInativos']= [atividade_super['membros'][1]]\n",
    "\n",
    "del(atividade_super['membros'])\n",
    "\n",
    "print(atividade_super)"
   ]
  },
  {
   "cell_type": "markdown",
   "metadata": {},
   "source": [
    "5) No seguinte código, aceder a um JSON de forma remota. A partir da resposta, fazer o seguinte:\n",
    "\n",
    "* Mostrar o tipo de dados que se recebeu.\n",
    "* Expor os dados recebidos.\n",
    "* Mostrar o número de pessoas que se encontram atualmente na estrutura.\n",
    "* Fazer um ciclo que percorra todas essas pessoas e mostre os seus detalhes (nome, armazém, etc) no qual  se encontra.\n"
   ]
  },
  {
   "cell_type": "code",
   "execution_count": 17,
   "metadata": {},
   "outputs": [
    {
     "name": "stdout",
     "output_type": "stream",
     "text": [
      "<class 'dict'>\n",
      "{'message': 'success', 'number': 10, 'people': [{'craft': 'ISS', 'name': 'Sergey Prokopyev'}, {'craft': 'ISS', 'name': 'Dmitry Petelin'}, {'craft': 'ISS', 'name': 'Frank Rubio'}, {'craft': 'Shenzhou 15', 'name': 'Fei Junlong'}, {'craft': 'Shenzhou 15', 'name': 'Deng Qingming'}, {'craft': 'Shenzhou 15', 'name': 'Zhang Lu'}, {'craft': 'ISS', 'name': 'Stephen Bowen'}, {'craft': 'ISS', 'name': 'Warren Hoburg'}, {'craft': 'ISS', 'name': 'Sultan Alneyadi'}, {'craft': 'ISS', 'name': 'Andrey Fedyaev'}]}\n",
      "Número de Pessoas:  10\n",
      "Armazém: ISS - Nome: Sergey Prokopyev\n",
      "Armazém: ISS - Nome: Dmitry Petelin\n",
      "Armazém: ISS - Nome: Frank Rubio\n",
      "Armazém: Shenzhou 15 - Nome: Fei Junlong\n",
      "Armazém: Shenzhou 15 - Nome: Deng Qingming\n",
      "Armazém: Shenzhou 15 - Nome: Zhang Lu\n",
      "Armazém: ISS - Nome: Stephen Bowen\n",
      "Armazém: ISS - Nome: Warren Hoburg\n",
      "Armazém: ISS - Nome: Sultan Alneyadi\n",
      "Armazém: ISS - Nome: Andrey Fedyaev\n"
     ]
    }
   ],
   "source": [
    "from pip._vendor import requests\n",
    "\n",
    "\n",
    "# API que nos comunica quantas pessoas se encontram atualmente no espaço \n",
    "response = requests.get(\"http://api.open-notify.org/astros.json\")\n",
    "data = response.json()\n",
    "\n",
    "# Completar o exercício.\n",
    "\n",
    "print(type(data))\n",
    "print(data)\n",
    "print(\"Número de Pessoas: \",data['number'])\n",
    "for i in data['people']:\n",
    "    print(f\"Armazém: {i['craft']} - Nome: {i['name']}\")"
   ]
  }
 ],
 "metadata": {
  "anaconda-cloud": {},
  "kernelspec": {
   "display_name": "Python 3 (ipykernel)",
   "language": "python",
   "name": "python3"
  },
  "language_info": {
   "codemirror_mode": {
    "name": "ipython",
    "version": 3
   },
   "file_extension": ".py",
   "mimetype": "text/x-python",
   "name": "python",
   "nbconvert_exporter": "python",
   "pygments_lexer": "ipython3",
   "version": "3.9.13"
  }
 },
 "nbformat": 4,
 "nbformat_minor": 1
}
