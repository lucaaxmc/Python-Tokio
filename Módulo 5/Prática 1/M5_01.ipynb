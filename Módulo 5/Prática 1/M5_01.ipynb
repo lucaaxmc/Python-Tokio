{
 "cells": [
  {
   "cell_type": "markdown",
   "metadata": {},
   "source": [
    "# Exercícios Módulo 5. Ficheiros (Enunciado)\n",
    "\n",
    "Considerações a ter em conta:\n",
    "\n",
    "* Guardar este documento com o seguinte formato para entrega: __M5_01_nome_apelido1_apelido2__\n",
    "* Fazer os exercícios com as ferramentas vistas nas sessões. \n",
    "* Comentar o código\n",
    "* Utilizar nomes de variáveis apropriados, se vai guardar uma nota, chamar a essa variável nota, não n ou x"
   ]
  },
  {
   "cell_type": "markdown",
   "metadata": {},
   "source": [
    "**1)  Neste exercício deverá criar um programa que abra e leia um ficheiro de texto, e nos proporcione a seguinte informação:**\n",
    "\n",
    "* Nome do ficheiro\n",
    "* Se o ficheiro está fechado ou não (True ou False)\n",
    "* O modo de abertura do ficheiro\n",
    "\n",
    "O ficheiro de texto irá denominar-se **provas.txt** e terá o seguinte conteúdo em texto plano (criar previamente):\n",
    "\n",
    "```\n",
    "Olá que tal estás \n",
    "Isto é uma prova \n",
    "Hoje não chove\n",
    "Aproxima-se o natal \n",
    "Até logo e boa \n",
    "continuação\n",
    "```\n",
    "\n",
    "Pesquisar na documentação que métodos nos proporcionam a informação requerida. Por último, listar o conteúdo do ficheiro.\n",
    "\n",
    "**Aviso importante**: *se quer ler um ficheiro que não se escreveu diretamente com Python, é possível que encontre erros de codificação ao \n",
    "mostrar alguns caracteres. Assegure-se de indicar a codificação do ficheiro manualmente durante a abertura como argumento no **open**, por\n",
    "exemplo com UTF-8*:\n",
    "\n",
    "```python\n",
    "open(..., encoding=\"utf8\")\n",
    "```"
   ]
  },
  {
   "cell_type": "code",
   "execution_count": 2,
   "metadata": {},
   "outputs": [
    {
     "name": "stdout",
     "output_type": "stream",
     "text": [
      "provas.txt\n",
      "False\n",
      "r\n",
      "Olá que tal estás \n",
      "Isto é uma prova \n",
      "Hoje não chove\n",
      "Aproxima-se o natal \n",
      "Até logo e boa \n",
      "continuação\n"
     ]
    }
   ],
   "source": [
    "ficheiro = open('provas.txt', mode='r', encoding='UTF-8')\n",
    "texto = ficheiro.read()\n",
    "\n",
    "print(ficheiro.name)\n",
    "print(ficheiro.closed)\n",
    "print(ficheiro.mode)\n",
    "print(texto)\n",
    "\n",
    "ficheiro.close()"
   ]
  },
  {
   "cell_type": "markdown",
   "metadata": {},
   "source": [
    "**2) Sobre o ficheiro anterior, obtenha a seguinte informação:**\n",
    "\n",
    "* Leitura de uma linha do ficheiro \n",
    "* Leitura do ficheiro linha a linha"
   ]
  },
  {
   "cell_type": "code",
   "execution_count": 7,
   "metadata": {},
   "outputs": [
    {
     "name": "stdout",
     "output_type": "stream",
     "text": [
      "Olá que tal estás \n",
      "\n",
      "Isto é uma prova \n",
      "Hoje não chove\n",
      "Aproxima-se o natal \n",
      "Até logo e boa \n",
      "continuação\n"
     ]
    }
   ],
   "source": [
    "ficheiro = open('provas.txt', mode='r', encoding='UTF-8')\n",
    "\n",
    "umaLinha = ficheiro.readline()\n",
    "print(umaLinha)\n",
    "\n",
    "texto = ficheiro.read()\n",
    "print(texto)\n",
    "\n",
    "ficheiro.close()"
   ]
  },
  {
   "cell_type": "code",
   "execution_count": 8,
   "metadata": {},
   "outputs": [
    {
     "name": "stdout",
     "output_type": "stream",
     "text": [
      "Olá que tal estás \n",
      "\n",
      "['Isto é uma prova \\n', 'Hoje não chove\\n', 'Aproxima-se o natal \\n', 'Até logo e boa \\n', 'continuação']\n"
     ]
    }
   ],
   "source": [
    "ficheiro = open('provas.txt', mode='r', encoding='UTF-8')\n",
    "\n",
    "umaLinha = ficheiro.readline()\n",
    "print(umaLinha)\n",
    "\n",
    "variasLinhas = ficheiro.readlines()\n",
    "print(variasLinhas)\n",
    "\n",
    "ficheiro.close()"
   ]
  },
  {
   "cell_type": "markdown",
   "metadata": {},
   "source": [
    "**3)  Sobre o ficheiro anterior, fazer a seguinte operação:**\n",
    "\n",
    "* Abrir o ficheiro em modo de escrita (concatenando o conteúdo, sem substituir) e escrever uma nova linha de texto\n",
    "\n",
    "Comprovar que esta a funcionar corretamente imprimindo o conteúdo do ficheiro (terá que fechar e abrir a conexão para poder visualizar as mudanças)."
   ]
  },
  {
   "cell_type": "code",
   "execution_count": 9,
   "metadata": {},
   "outputs": [
    {
     "name": "stdout",
     "output_type": "stream",
     "text": [
      "Olá que tal estás \n",
      "Isto é uma prova \n",
      "Hoje não chove\n",
      "Aproxima-se o natal \n",
      "Até logo e boa \n",
      "continuação\n",
      "Continuamos agora\n"
     ]
    }
   ],
   "source": [
    "ficheiro = open('provas.txt', mode='a', encoding='UTF-8')\n",
    "ficheiro.write('\\nContinuamos agora')\n",
    "ficheiro.close()\n",
    "\n",
    "ficheiro = open('provas.txt', mode='r', encoding='UTF-8')\n",
    "textoNovo = ficheiro.read()\n",
    "\n",
    "print(textoNovo)\n",
    "\n",
    "ficheiro.close()"
   ]
  },
  {
   "cell_type": "markdown",
   "metadata": {},
   "source": [
    "**4) Sobre o ficheiro anterior, fazer a seguinte operação:**\n",
    "\n",
    "* Abrir o ficheiro em modo de escrita (substituindo o conteúdo) e escrever uma nova linha de texto\n",
    "\n",
    "Comprovar que esta a funcionar corretamente imprimindo o conteúdo do ficheiro (terá que fechar e abrir a conexão para poder visualizar as mudanças)."
   ]
  },
  {
   "cell_type": "code",
   "execution_count": 10,
   "metadata": {},
   "outputs": [
    {
     "name": "stdout",
     "output_type": "stream",
     "text": [
      "Este texto está diferente.\n"
     ]
    }
   ],
   "source": [
    "ficheiro = open('provas.txt', mode='w', encoding='UTF-8')\n",
    "substituir = 'Este texto está diferente.'\n",
    "ficheiro.write(substituir)\n",
    "ficheiro.close()\n",
    "\n",
    "ficheiro = open('provas.txt', mode='r', encoding='UTF-8')\n",
    "novoTexto = ficheiro.read()\n",
    "\n",
    "print(novoTexto)\n",
    "\n",
    "ficheiro.close()"
   ]
  },
  {
   "cell_type": "markdown",
   "metadata": {},
   "source": [
    "**5) Neste exercício deverá criar um programa que leia os dados de um ficheiro de texto, que transforme cada linha num dicionário e adicione o dicionario a uma lista chamada pessoas. De seguida percorre-se a lista pessoas e para cada uma mostrar da forma expressa no exemplo:**\n",
    "\n",
    "```\n",
    "(id=1) Carlos Pérez => 05/01/1989 \n",
    "```\n",
    "\n",
    "O ficheiro de texto irá denominar-se **pessoas.txt** e terá o seguinte conteúdo em texto plano (criar previamente):\n",
    "\n",
    "\n",
    "```\n",
    "1;Carlos;Pérez;05/01/1989\n",
    "2;Manuel;Heredia;26/12/1973\n",
    "3;Rosa;Campos;12/06/1961\n",
    "4;David;García;25/07/2006\n",
    "```\n",
    "\n",
    "Os campos do dicionário serão por ordem: **id**, **nome**, **apelido** e **nascimento**.\n",
    "\n",
    "**Aviso importante**: *se quer ler um ficheiro que não se escreveu diretamente com Python,  é possível que encontre erros de codificação ao mostrar alguns caracteres. Assegure-se de indicar a codificação do ficheiro manualmente durante a abertura como um argumento no **open**, por exemplo com UTF-8*:\n",
    "\n",
    "```python\n",
    "open(..., encoding=\"utf8\")\n",
    "```\n",
    "\n",
    "Pista: é possível que tenha que recorrer a funções como replace ou split para poder modificar o texto de uma linha de texto. \n",
    "Pesquisar documentação sobre isso."
   ]
  },
  {
   "cell_type": "code",
   "execution_count": 11,
   "metadata": {},
   "outputs": [
    {
     "name": "stdout",
     "output_type": "stream",
     "text": [
      "(id=1)  Carlos Perez =>  05/01/1989\n",
      "\n",
      "(id=2)  Manuel Campos =>  26/12/1973\n",
      "\n",
      "(id=3)  Rosa Campos =>  12/06/1961\n",
      "\n",
      "(id=4)  David Garcia =>  27/07/2006\n"
     ]
    }
   ],
   "source": [
    "programa = open('pessoas.txt',mode='w',encoding='UTF-8')\n",
    "\n",
    "texto = '1; Carlos; Perez; 05/01/1989\\n2; Manuel; Campos; 26/12/1973\\n3; Rosa; Campos; 12/06/1961\\n4; David; Garcia; 27/07/2006'\n",
    "programa.write(texto)\n",
    "\n",
    "programa.close()\n",
    "\n",
    "dicionario = {'id':'','nome':'','apelido':'','nascimento':''}\n",
    "pessoas = []\n",
    "\n",
    "with open('pessoas.txt',mode='r') as programa:\n",
    "    for infor in programa.readlines():\n",
    "        infor = infor.split(';')\n",
    "        dicionario['id'] = infor[0]\n",
    "        dicionario['nome'] = infor[1]\n",
    "        dicionario['apelido'] = infor[2]\n",
    "        dicionario['nascimento'] = infor[3]\n",
    "        pessoas.append(f\"(id={dicionario['id']}) {dicionario['nome']}{dicionario['apelido']} => {dicionario['nascimento']}\")\n",
    "        \n",
    "for pessoa in pessoas:\n",
    "    print(pessoa)\n",
    "    \n",
    "programa = open('pessoas.txt', mode='r')\n",
    "programa.readlines()\n",
    "programa.close()"
   ]
  }
 ],
 "metadata": {
  "anaconda-cloud": {},
  "kernelspec": {
   "display_name": "Python 3 (ipykernel)",
   "language": "python",
   "name": "python3"
  },
  "language_info": {
   "codemirror_mode": {
    "name": "ipython",
    "version": 3
   },
   "file_extension": ".py",
   "mimetype": "text/x-python",
   "name": "python",
   "nbconvert_exporter": "python",
   "pygments_lexer": "ipython3",
   "version": "3.9.13"
  }
 },
 "nbformat": 4,
 "nbformat_minor": 1
}
