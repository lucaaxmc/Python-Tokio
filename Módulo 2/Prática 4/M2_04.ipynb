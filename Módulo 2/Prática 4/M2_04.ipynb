{
 "cells": [
  {
   "cell_type": "markdown",
   "metadata": {},
   "source": [
    "# Exercícios Módulo 2. Tipos avançados\n",
    "\n",
    "Considerações a ter em conta:\n",
    "\n",
    "* Guardar este documento com o seguinte formato para entrega: __M2_03_nome_apelido1_apelido2__ \n",
    "* Fazer os exercícios com as ferramentas vistas nas sessões. Ainda não chegámos às condicionais nem ciclos \n",
    "* Comentar o código\n",
    "* Utilizar nomes de variáveis apropriados, se vai guardar uma nota, chamar a essa variável nota, não n ou x"
   ]
  },
  {
   "cell_type": "markdown",
   "metadata": {},
   "source": [
    "## Exercícios de tipos avançados"
   ]
  },
  {
   "cell_type": "markdown",
   "metadata": {},
   "source": [
    "**1) Trabalhar com listas e tuplas**\n",
    "\n",
    "* Criar uma lista e uma tupla que contenha strings (pelo menos 3 elementos). Será de temática livre, sobre o que quiser: veículos, comida, música, etc.\n",
    "* Imprimir a lista e a tupla.\n",
    "* Imprimir o 2.º elemento da lista e o penúltimo da tupla.\n",
    "* Modificar (se puder) algum elemento da lista e da tupla. E imprimir o resultado novamente.\n",
    "* Mostrar o tamanho da lista e da tupla.\n",
    "* Procurar um elemento dentro da lista e da tupla. Mostrar se nos devolve True ou False.\n",
    "* Adicionar (se puder) algum elemento à lista e à tupla. Mostrar a lista e a tupla novamente para verificar se a ação foi realizada corretamente.\n",
    "* Apagar ou eliminar (se puder) o conteúdo da lista e da tupla. Imprimir a lista e a tupla novamente para verificar se a ação foi realizada corretamente.\n"
   ]
  },
  {
   "cell_type": "code",
   "execution_count": 5,
   "metadata": {},
   "outputs": [
    {
     "name": "stdout",
     "output_type": "stream",
     "text": [
      "['Rock', 'Pop', 'Jazz']\n",
      "('Leite', 'Queijo', 'Manteiga')\n",
      "Pop\n",
      "Queijo\n",
      "['Rock', 'Pop', 'Indie']\n",
      "3\n",
      "3\n",
      "True\n",
      "True\n",
      "['Rock', 'Pop', 'Indie', 'Jazz']\n",
      "[]\n"
     ]
    }
   ],
   "source": [
    "# Criação da lista e da tupla\n",
    "\n",
    "lista1 = ['Rock','Pop','Jazz']\n",
    "\n",
    "tupla1 = ('Leite','Queijo','Manteiga')\n",
    "\n",
    "# Mostrar a lista e a tupla\n",
    "\n",
    "print (lista1)\n",
    "\n",
    "print (tupla1)\n",
    "\n",
    "# Mostrar o segundo elemento da lista e o penúltimo da tupla\n",
    "\n",
    "print(lista1[1])\n",
    "\n",
    "print(tupla1[-2])\n",
    "\n",
    "# Modificar elementos da lista e da tupla\n",
    "\n",
    "# Tuplas não podem ser modificadas\n",
    "\n",
    "lista1 [2] = 'Indie'\n",
    "\n",
    "# Mostrar a lista com o elemento modificado\n",
    "\n",
    "print (lista1) \n",
    "\n",
    "# Mostrar o tamanho da lista e da tupla\n",
    "\n",
    "print(len(lista1))\n",
    "\n",
    "print(len(tupla1))\n",
    "\n",
    "# Pesquisa de elementos dentro da lista e da tupla\n",
    "\n",
    "print('Pop' in lista1)\n",
    "\n",
    "print('Queijo' in tupla1)\n",
    "\n",
    "# Adicionar elementos\n",
    "\n",
    "# Não é possivel modificar tuplas, logo não é possível adicionar elementos\n",
    "\n",
    "lista1.append('Jazz')\n",
    "\n",
    "# Mostrar a lista com o elemento adicionado\n",
    "\n",
    "print (lista1)\n",
    "\n",
    "# Apagar\n",
    "# Não é possível apagar os elementos da tupla\n",
    "\n",
    "lista1.clear()\n",
    "\n",
    "# Mostrar a lista sem os elementos\n",
    "\n",
    "print(lista1)\n",
    "\n"
   ]
  },
  {
   "cell_type": "markdown",
   "metadata": {},
   "source": [
    "**2) Trabalhar com sets e dicionários**\n",
    "\n",
    "* Criar um set e um dicionário que contenham strings (pelo menos 3 elementos no caso do set e 3 conjuntos de chave: valor no caso do dicionário). Temática livre, sobre o que quiser, veículos, comida, música, etc.\n",
    "* Mostrar o set e o dicionário\n",
    "* Mostrar (se puder) o 2º elemento do set e o valor da primeira chave-valor do dicionário \n",
    "* Modificar (se puder) algum elemento do set ou do dicionário. E mostrar o resultado \n",
    "* Mostrar o tamanho do set e do dicionário\n",
    "* Fazer uma pesquisa de um elemento dentro do set e dentro do dicionário. Imprimir o resultado (True ou False).\n",
    "* Adicionar (se puder) algum elemento ao set e alguma chave-valor ao dicionário. Imprimir novamente o set e o dicionário para verificar se a acção foi realizada corretamente.\n",
    "* Apagar ou eliminar (se puder) o conteúdo do set e do dicionário. Imprimir de novo o set e o dicionário para verificar se a acção foi realizada corretamente."
   ]
  },
  {
   "cell_type": "code",
   "execution_count": 13,
   "metadata": {},
   "outputs": [
    {
     "name": "stdout",
     "output_type": "stream",
     "text": [
      "{'Massa', 'Batata', 'Arroz'}\n",
      "{'Portugal': 'Lisboa', 'Itália': 'Roma', 'Espanha': 'Madrid'}\n",
      "Batata\n",
      "Lisboa\n",
      "{'Portugal': 'Capital', 'Itália': 'Roma', 'Espanha': 'Madrid'}\n",
      "3\n",
      "3\n",
      "True\n",
      "True\n",
      "{'Massa', 'Batata', 'Arroz', 'Puré'}\n",
      "{'Portugal': 'Capital', 'Itália': 'Roma', 'Espanha': 'Madrid', 'França': 'Paris'}\n",
      "set()\n",
      "{}\n"
     ]
    }
   ],
   "source": [
    "# Criação do set e do dicionario\n",
    "\n",
    "set1 = {'Arroz', 'Batata', 'Massa'}\n",
    "dicionario1 = {'Portugal' : 'Lisboa', 'Itália' : 'Roma', 'Espanha' : 'Madrid'}\n",
    "\n",
    "# Mostrar o set e o dicionário\n",
    "\n",
    "print(set1)\n",
    "print(dicionario1)\n",
    "\n",
    "# Mostrar elementos específicos\n",
    "\n",
    "print(list(set1)[1])\n",
    "print(dicionario1.get('Portugal'))\n",
    "\n",
    "\n",
    "# Modificar um elemento do dicionário e mostrá-lo\n",
    "# Sets não podem ser modificadas\n",
    "\n",
    "dicionario1['Portugal'] = 'Capital'\n",
    "print(dicionario1)\n",
    "\n",
    "# Tamanho do set e do dicionário\n",
    "\n",
    "print(len(set1))\n",
    "print(len(dicionario1))\n",
    "\n",
    "# Pesquisa de elementos\n",
    "\n",
    "print('Arroz' in set1)\n",
    "print ('Itália' in dicionario1)\n",
    "\n",
    "# Adicionar elementos ao set e ao dicionário e mostrá-los\n",
    "\n",
    "set1.add('Puré') \n",
    "dicionario1['França'] = 'Paris'\n",
    "print(set1)\n",
    "print(dicionario1)\n",
    "\n",
    "# Apagar elementos e mostrar o set e o dicionário\n",
    "\n",
    "set1.clear()\n",
    "dicionario1.clear()\n",
    "print(set1)\n",
    "print(dicionario1)\n"
   ]
  },
  {
   "cell_type": "markdown",
   "metadata": {},
   "source": [
    "**3) Fazer um programa que peça ao utilizador 3 números que possam int ou float (não é  necessário fazer ciclos , pode repetir o código).\n",
    "Estes números devem ser  adicionados a uma  lista. Quando se finalizar a introdução dos dados, realizar a soma dos elementos da lista e atribuir a uma variavel com nome \"somatório\" . \n",
    "No final, imprimir o resultado.\n",
    "”**\n",
    "\n",
    "*Ajuda: existe uma função chamada sum(lista) Experimente-a!*"
   ]
  },
  {
   "cell_type": "code",
   "execution_count": 18,
   "metadata": {},
   "outputs": [
    {
     "name": "stdout",
     "output_type": "stream",
     "text": [
      "2\n",
      "7\n",
      "9\n",
      "18.0\n"
     ]
    }
   ],
   "source": [
    "# Criação da lista\n",
    "\n",
    "numeros = []\n",
    "\n",
    "# Introdução dos 3 números por teclado\n",
    "\n",
    "numeros.append(float(input()))\n",
    "numeros.append(float(input()))\n",
    "numeros.append(float(input()))\n",
    "\n",
    "# Soma dos elementos da lista\n",
    "\n",
    "somatorio = sum(numeros)\n",
    "\n",
    "# Mostrar o resultado\n",
    "\n",
    "print (somatorio)"
   ]
  },
  {
   "cell_type": "markdown",
   "metadata": {},
   "source": [
    "**4) Continuar o exercício anterior; calcular a média aritmética dos elementos da lista e imprimir o resultado.**\n",
    "\n",
    "*Neste caso sabemos que o número de elementos que o utilizador introduziu é 3, mas o objetivo será deixar o programa abstrato,e portanto, não fazer referência ao número 3; deve calcular o numeros de elementos da lista*"
   ]
  },
  {
   "cell_type": "code",
   "execution_count": 17,
   "metadata": {},
   "outputs": [
    {
     "name": "stdout",
     "output_type": "stream",
     "text": [
      "2\n",
      "7\n",
      "9\n",
      "6.0\n"
     ]
    }
   ],
   "source": [
    "# Criação da lista\n",
    "\n",
    "numeros = []\n",
    "\n",
    "# Introdução dos 3 números por teclado\n",
    "\n",
    "numeros.append(float(input()))\n",
    "numeros.append(float(input()))\n",
    "numeros.append(float(input()))\n",
    "\n",
    "# Média dos elementos da lista\n",
    "\n",
    "media = sum(numeros) / len (numeros)\n",
    "\n",
    "# Mostrar o resultado\n",
    "\n",
    "print (media)"
   ]
  },
  {
   "cell_type": "markdown",
   "metadata": {},
   "source": [
    "**5) Dada a seguinte matriz (lista com quatro listas como elementos), o objectivo é que em cada sublista, o quarto elemento seja sempre o resultado da soma dos três primeiros elementos. Construa um pequeno programa que realize este cálculo.**\n",
    "\n",
    "Pista: modificar as somas erradas utilizando o slicing\n",
    "\n",
    "\n",
    "* Não vale colocar diretamente os valores (nem os índices nem a soma): \n",
    "* matriz[1][3] = 6\n",
    "* matriz[3][3] = 12\n",
    "* Há que pesquisar uma forma automatizada de aceder e modificar esses valores"
   ]
  },
  {
   "cell_type": "code",
   "execution_count": 19,
   "metadata": {},
   "outputs": [
    {
     "name": "stdout",
     "output_type": "stream",
     "text": [
      "[1, 1, 1, 3]\n",
      "[2, 2, 2, 6]\n",
      "[3, 3, 3, 9]\n",
      "[4, 4, 4, 12]\n"
     ]
    }
   ],
   "source": [
    "matriz = [ \n",
    "    [1, 1, 1, 3],\n",
    "    [2, 2, 2, 7],\n",
    "    [3, 3, 3, 9],\n",
    "    [4, 4, 4, 13]\n",
    "]\n",
    "\n",
    "# Completar o exercício aqui\n",
    "\n",
    "for i in matriz:\n",
    "    i.append(sum(i[:3]))\n",
    "    i.pop(3)\n",
    "    print(i)\n"
   ]
  },
  {
   "cell_type": "markdown",
   "metadata": {},
   "source": [
    "**6) Supor que obtém uma string invertida. Esta string contém o nome e a nota de um aluno. Formate este string para obter o seguinte output:**\n",
    "\n",
    "* ***Nome Apelido*** teve um(a) ***Nota*** de nota\n",
    "\n",
    "*Pista: Para inverter uma string usando a técnica de slicing pode-se utilizar um terceiro índice -1: cadeia[::-1]*"
   ]
  },
  {
   "cell_type": "code",
   "execution_count": 15,
   "metadata": {},
   "outputs": [
    {
     "name": "stdout",
     "output_type": "stream",
     "text": [
      "10,Carlos Perez\n",
      "Carlos Perez teve um(a) 10 de nota.\n"
     ]
    }
   ],
   "source": [
    "cadeia = \"zereP solraC,01\"\n",
    "\n",
    "# Completar o exercício aqui\n",
    "\n",
    "# Inverter o texto\n",
    "\n",
    "texto_invertido = cadeia[::-1]\n",
    "print(texto_invertido)\n",
    "\n",
    "# Imprimir o texto no formato pedido\n",
    "\n",
    "print (texto_invertido[3:15],'teve um(a)', texto_invertido[:2],'de nota.')"
   ]
  },
  {
   "cell_type": "markdown",
   "metadata": {},
   "source": [
    "**7) Fazer um programa que cumpra as seguintes instruções:**\n",
    "\n",
    "* Criar um conjunto chamado utilizadores com os utilizadores Marta, David, Elvira, Juan e Marcos \n",
    "* Criar um conjunto chamado administradores com os administradores Juan e Marta.\n",
    "* Apagar o administrador Juan do conjunto de administradores.\n",
    "* Adicionar Marcos como um novo administrador, mas não o apagar do conjunto de utilizadores.\n",
    "* Imprimir todos os utilizadores por ecrã de forma dinâmica (loop); indicar também se os utilizadores são administradores (ou não).\n",
    "\n",
    "Notas: os conjuntos podem ser percorridos dinâmicamente, utilizando o ciclo **for** de forma similar a uma lista. Também contam com um método chamado **.discard (elemento)** que serve para apagar um elemento.\n",
    "* "
   ]
  },
  {
   "cell_type": "code",
   "execution_count": 32,
   "metadata": {},
   "outputs": [
    {
     "name": "stdout",
     "output_type": "stream",
     "text": [
      "Marta é administrador/a.\n",
      "David não é administrador/a.\n",
      "Elvira não é administrador/a.\n",
      "Juan não é administrador/a.\n",
      "Marcos é administrador/a.\n"
     ]
    }
   ],
   "source": [
    "# Criação do conjunto utilizadores (users)\n",
    "\n",
    "users = ['Marta','David', 'Elvira','Juan','Marcos']\n",
    "\n",
    "# Criação do conjunto administradores (admins)\n",
    "\n",
    "admins = [users[0],users[3]]\n",
    "\n",
    "# Retirar o Juan do conjunto\n",
    "\n",
    "admins.remove(users[3])\n",
    "\n",
    "# Adicionar Marcos ao conjunto\n",
    "\n",
    "admins.append(users[4])\n",
    "\n",
    "# Impressão de todos os utilizadoresm indicando se são ou não administradores\n",
    "\n",
    "i = len(users)\n",
    "for user in users:\n",
    "    if user in admins:\n",
    "        print(user, 'é administrador/a.')\n",
    "    else : print (user, 'não é administrador/a.')\n"
   ]
  },
  {
   "cell_type": "markdown",
   "metadata": {},
   "source": [
    "**8) Existe um videojogo na qual os atributos das personagens estão  guardadas nos seguintes dicionários:**\n",
    "\n",
    "* cavaleiro = { 'vida':2, 'ataque':2, 'defesa': 2, 'alcance':2 }\n",
    "* guerreiro = { 'vida':2, 'ataque':2, 'defesa': 2, 'alcance':2 }\n",
    "* arqueiro = { 'vida':2, 'ataque':2, 'defesa': 2, 'alcance':2 }\n",
    "\n",
    "Ao passar para o segundo nível do jogo, temos de automaticamente alterar os seus valores:\n",
    "\n",
    "* O cavaleiro terá o dobro de vida e de defesa que um guerreiro.\n",
    "* O guerreiro terá o dobro do ataque e do alcance que um cavaleiro.\n",
    "* O arqueiro terá a mesma vida e ataque que um guerreiro, mas a metade da sua defesa e o dobro do seu alcance.\n",
    "\n",
    "Imprimir como fica os atributos das três personagens.\n"
   ]
  },
  {
   "cell_type": "code",
   "execution_count": 1,
   "metadata": {},
   "outputs": [
    {
     "name": "stdout",
     "output_type": "stream",
     "text": [
      "Cavaleiro {'Vida': 4, 'Ataque': 2, 'Defesa': 4, 'Alcance': 2}\n",
      "Guerreiro {'Vida': 2, 'Ataque': 4, 'Defesa': 2, 'Alcance': 4}\n",
      "Arqueiro {'Vida': 2, 'Ataque': 4, 'Defesa': 1, 'Alcance': 8}\n"
     ]
    }
   ],
   "source": [
    "Cavaleiro = { 'Vida':2, 'Ataque':2, 'Defesa': 2, 'Alcance':2 }\n",
    "Guerreiro = { 'Vida':2, 'Ataque':2, 'Defesa': 2, 'Alcance':2 }\n",
    "Arqueiro  = { 'Vida':2, 'Ataque':2, 'Defesa': 2, 'Alcance':2 }\n",
    "\n",
    "# Completar o exercício aqui\n",
    "\n",
    "Cavaleiro ['Vida'] = Guerreiro['Vida']*2\n",
    "Cavaleiro ['Defesa'] = Guerreiro['Defesa']*2\n",
    "Guerreiro['Ataque'] = Cavaleiro['Ataque']*2\n",
    "Guerreiro['Alcance']= Cavaleiro['Alcance']*2\n",
    "Arqueiro['Ataque'] = Guerreiro['Ataque']\n",
    "Arqueiro['Vida'] = Guerreiro['Vida']\n",
    "Arqueiro['Defesa'] = int(Guerreiro ['Defesa']/2)\n",
    "Arqueiro ['Alcance'] = int(Guerreiro ['Alcance']*2)\n",
    "\n",
    "print ('Cavaleiro',Cavaleiro)\n",
    "print ('Guerreiro',Guerreiro)\n",
    "print ('Arqueiro',Arqueiro)\n"
   ]
  }
 ],
 "metadata": {
  "anaconda-cloud": {},
  "kernelspec": {
   "display_name": "Python 3 (ipykernel)",
   "language": "python",
   "name": "python3"
  },
  "language_info": {
   "codemirror_mode": {
    "name": "ipython",
    "version": 3
   },
   "file_extension": ".py",
   "mimetype": "text/x-python",
   "name": "python",
   "nbconvert_exporter": "python",
   "pygments_lexer": "ipython3",
   "version": "3.9.13"
  }
 },
 "nbformat": 4,
 "nbformat_minor": 1
}
