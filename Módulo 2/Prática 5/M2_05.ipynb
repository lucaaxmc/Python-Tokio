{
 "cells": [
  {
   "cell_type": "markdown",
   "metadata": {},
   "source": [
    "# Exercícios Módulo 2. Controlo de fluxo (Soluções)\n",
    "\n",
    "Considerações a ter em conta:\n",
    "\n",
    "* Guardar este documento com o seguinte formato para entrega: __M2_05_nome_apelido1_apelido2__\n",
    "* Fazer os exercícios com as ferramentas vistas nas sessões. \n",
    "* Comentar o código\n",
    "* Utilizar nomes de variáveis apropriados, se vai guardar uma nota, chamar a essa variável nota, não n ou x"
   ]
  },
  {
   "cell_type": "markdown",
   "metadata": {},
   "source": [
    "## Exercícios de controlo de fluxo"
   ]
  },
  {
   "cell_type": "markdown",
   "metadata": {},
   "source": [
    "**1) Fazer um programa que leia três números por teclado e permitir avaliar o seguinte:** \n",
    "\n",
    "* Se os números estão por ordem ascendente\n",
    "* Se os números não estão por ordem ascendente\n",
    "* Se há um erro devido a que o primeiro número introduzido é 0"
   ]
  },
  {
   "cell_type": "code",
   "execution_count": 11,
   "metadata": {},
   "outputs": [
    {
     "name": "stdout",
     "output_type": "stream",
     "text": [
      "Introduza o primeiro número: 27\n",
      "Introduza o segundo número: 9\n",
      "Introduza o último número: 21\n",
      "Os números não estão por ordem ascendente. Ordem desconhecida\n"
     ]
    }
   ],
   "source": [
    "#Introdução dos três números por teclado\n",
    "\n",
    "numero1 = int(input('Introduza o primeiro número: '))\n",
    "\n",
    "numero2 = int(input('Introduza o segundo número: '))\n",
    "\n",
    "numero3 = int(input('Introduza o último número: '))\n",
    "\n",
    "# Mostrar a mensagem a dizer se os números estão em ordem adcendente ou descendente  \n",
    "\n",
    "if numero1 == 0:\n",
    "    print('Erro! O primeiro número não pode ser 0.')\n",
    "        \n",
    "elif numero1 < numero2 < numero3:\n",
    "    print('Ordem Ascendente.')\n",
    "    \n",
    "elif numero1 > numero2 > numero3:\n",
    "    print('Ordem Descendente.')\n",
    "\n",
    "else:\n",
    "    print('Os números não estão por ordem ascendente. Ordem desconhecida')"
   ]
  },
  {
   "cell_type": "markdown",
   "metadata": {},
   "source": [
    "**2) Fazer um programa que realize o somatório dos primeiros N números, começando em 0, e sendo N o número limite que o utilizador proporciona por teclado:** \n",
    "* Exemplo de número limite introduzido pelo utilizador: 5\n",
    "* somatório = 0 + 1 + 2 + 3 + 4 (somamos os 5 primeiros números)"
   ]
  },
  {
   "cell_type": "code",
   "execution_count": 80,
   "metadata": {},
   "outputs": [
    {
     "name": "stdout",
     "output_type": "stream",
     "text": [
      "Introduza quantos números pretende somar, tendo em conta o 0: 7\n",
      "\n",
      "[0, 1, 2, 3, 4, 5, 6] = 21\n",
      "\n",
      "O somatório é igual a  21\n"
     ]
    }
   ],
   "source": [
    "# Pedir que seja introduzido o número limite\n",
    "\n",
    "n= int(input('Introduza quantos números pretende somar, tendo em conta o 0: '))\n",
    "\n",
    "# Criação da lista para a soma dos números dentro do limite\n",
    "\n",
    "somatorio = []\n",
    "\n",
    "# Somatório\n",
    "\n",
    "while 0 < n:\n",
    "    n-=1\n",
    "    somatorio.append(n)\n",
    "    somatorio.sort()\n",
    "    \n",
    "#Impressão do resultado do sumatório\n",
    "\n",
    "print()\n",
    "print(somatorio,\"=\",sum (somatorio))\n",
    "print()\n",
    "print('O somatório é igual a ', sum(somatorio))"
   ]
  },
  {
   "cell_type": "markdown",
   "metadata": {},
   "source": [
    "**3) Fazer um programa que leia dois números por teclado e mostre o seguinte menu:** \n",
    "\n",
    "* Mostrar uma soma dos dois números\n",
    "* Mostrar um resto dos dois números (o primeiro menos o segundo) \n",
    "* Mostrar uma multiplicação dos dois números\n",
    "* Em caso de não introduzir uma opção válida, o programa irá informar que não é correta"
   ]
  },
  {
   "cell_type": "code",
   "execution_count": 54,
   "metadata": {},
   "outputs": [
    {
     "name": "stdout",
     "output_type": "stream",
     "text": [
      "Introduza o primeiro número: 2\n",
      "Introduza o segundo número: 7\n",
      "\n",
      "          1) Soma dos dois números\n",
      "          2) Diferença dos dois números (primeiro pelo segundo)\n",
      "          3) Produto dos dois números\n",
      "          \n",
      "Escolha uma das opções: 0\n",
      "\n",
      "Opção inválida. Tente novamente.\n",
      "\n",
      "          1) Soma dos dois números\n",
      "          2) Diferença dos dois números (primeiro pelo segundo)\n",
      "          3) Produto dos dois números\n",
      "          \n",
      "Escolha uma das opções: 1\n",
      "\n",
      "2 + 7 = 9\n"
     ]
    }
   ],
   "source": [
    "# Introdução dos números por teclado\n",
    "\n",
    "numero1 = float(input('Introduza o primeiro número: '))\n",
    "numero2 = float(input('Introduza o segundo número: '))\n",
    "\n",
    "# Menu com diferentes opções\n",
    "\n",
    "while(True):\n",
    "    print(\"\"\"\n",
    "          1) Soma dos dois números\n",
    "          2) Diferença dos dois números (primeiro pelo segundo)\n",
    "          3) Produto dos dois números\n",
    "          \"\"\")\n",
    "    \n",
    "    # Escolha da opção\n",
    "    \n",
    "    option = input ('Escolha uma das opções: ')\n",
    "    print()\n",
    "    if option == '1':\n",
    "        print(numero1, '+', numero2, '=', numero1 + numero2)\n",
    "        break\n",
    "    elif option == '2':\n",
    "        print(numero1, '-', numero2, '=', numero1 - numero2)\n",
    "        break\n",
    "    elif option == '3':\n",
    "        print(numero1, 'x', numero2, '=', numero1 * numero2)\n",
    "        break\n",
    "        \n",
    "    # Se a opção introduzida não fôr válida\n",
    "    \n",
    "    else:\n",
    "        print('Opção inválida. Tente novamente.')\n",
    "    "
   ]
  },
  {
   "cell_type": "markdown",
   "metadata": {},
   "source": [
    "**4) Fazer um programa que leia letras e conte com uma variável contadora as letras “a” que se introduzem. Para sair do programa, introduzir o carácter “.”. Ao finalizar mostrar o número de vezes que se pressionou a letra “a”**"
   ]
  },
  {
   "cell_type": "code",
   "execution_count": 4,
   "metadata": {},
   "outputs": [
    {
     "name": "stdout",
     "output_type": "stream",
     "text": [
      "Introduza uma frase: Ola\n",
      "Introduza uma frase: três letras aaa\n",
      "Introduza uma frase: Adeus\n",
      "Introduza uma frase: aa\n",
      "Introduza uma frase: .\n",
      "A letra \"A\" apareceu 8 vezes.\n"
     ]
    }
   ],
   "source": [
    "# PEDIR INTRODUÇÃO DE UMA FRASE POR TECLADO\n",
    "\n",
    "frase = str(input('Introduza uma frase: ')).upper()\n",
    "\n",
    "# CONTADOR QUE VAI CONTAR A LETRA A\n",
    "\n",
    "contador = 0\n",
    "\n",
    "# INSTRUÇÕES PARA QUE O PROGRAMA COTINUE SE A FRASE FOR DIFERENTE DE '.'\n",
    "\n",
    "while(frase != '.'):\n",
    "    \n",
    "    for i in frase:\n",
    "    \n",
    "        #SE A PALAVRA TIVER A LETRA 'A', O CONTADOR AUMENTA UMA UNIDADE\n",
    "    \n",
    "        if (i == 'A'):\n",
    "            contador +=1\n",
    "    \n",
    "    # PEDIR OUTRA FRASE AO UTILIZADOR\n",
    "    \n",
    "    frase = str(input('Introduza uma frase: ')).upper()   \n",
    "\n",
    "# IMPRESSÃO, NO FINAL, DO TOTAL DE LETRAS 'A'    \n",
    "    \n",
    "print('A letra \"A\" apareceu {} vezes.'.format(contador))"
   ]
  },
  {
   "cell_type": "markdown",
   "metadata": {},
   "source": [
    "**5)  Fazer um programa que leia por teclado um número ímpar. Deve repetir-se o processo enquanto o utilizador continue a introduzir números ímpares. Quando introduzir um número par, o programa irá parar.**"
   ]
  },
  {
   "cell_type": "code",
   "execution_count": 77,
   "metadata": {},
   "outputs": [
    {
     "name": "stdout",
     "output_type": "stream",
     "text": [
      "Introduza um número ímpar: 3\n",
      "\n",
      "Ímpar.\n",
      "\n",
      "Introduza um número ímpar: 5\n",
      "\n",
      "Ímpar.\n",
      "\n",
      "Introduza um número ímpar: 7\n",
      "\n",
      "Ímpar.\n",
      "\n",
      "Introduza um número ímpar: 9\n",
      "\n",
      "Ímpar.\n",
      "\n",
      "Introduza um número ímpar: 2\n",
      "\n",
      "Erro. O número introduzido é par.\n"
     ]
    }
   ],
   "source": [
    "# Definição da condição ímpar\n",
    "\n",
    "impar = True\n",
    "\n",
    "while impar == True:\n",
    "    \n",
    "    # Pedir que se introduza um número ímpar e guardá-lo na variável \"n\"\n",
    "    \n",
    "    n = int(input('Introduza um número ímpar: '))\n",
    "    \n",
    "    # Verificar se o número é par ou ímpar\n",
    "    \n",
    "    if(n%2) != 0:\n",
    "        print()\n",
    "        print(\"Ímpar.\")\n",
    "        print()\n",
    "    if (n%2)==0:\n",
    "        print()\n",
    "        print(\"Erro. O número introduzido é par.\")\n",
    "        impar = False\n",
    "        break"
   ]
  },
  {
   "cell_type": "markdown",
   "metadata": {},
   "source": [
    "**6) Fazer um programa que some todos os números pares desde 0 até 100:**\n",
    "\n",
    "*Sugestão: pode utilizar as funções sum() e range() para o tornar mais fácil. O terceiro parâmetro na função range (início, fim, salto) indica um salto de números, experimente-o*"
   ]
  },
  {
   "cell_type": "code",
   "execution_count": 70,
   "metadata": {},
   "outputs": [
    {
     "name": "stdout",
     "output_type": "stream",
     "text": [
      "Números pares: [0, 2, 4, 6, 8, 10, 12, 14, 16, 18, 20, 22, 24, 26, 28, 30, 32, 34, 36, 38, 40, 42, 44, 46, 48, 50, 52, 54, 56, 58, 60, 62, 64, 66, 68, 70, 72, 74, 76, 78, 80, 82, 84, 86, 88, 90, 92, 94, 96, 98, 100]\n",
      "Somatório de todos os números pares até 100:  2550\n"
     ]
    }
   ],
   "source": [
    "# Criação das listas de números pares e ímpares\n",
    "\n",
    "par = []\n",
    "impar = []\n",
    "\n",
    "# Separar os números pares dos ímpares\n",
    "\n",
    "for i in range(0,101):\n",
    "    if (i%2)==0:\n",
    "        par.append(i)\n",
    "    else:\n",
    "        impar.append(i)\n",
    "        \n",
    "# Impressão de todos os números pares e a sua respetiva soma        \n",
    "        \n",
    "print(\"Números pares\",par, sep=': ')\n",
    "print(\"Somatório de todos os números pares até 100: \",sum(par))"
   ]
  },
  {
   "cell_type": "markdown",
   "metadata": {},
   "source": [
    "**7)  Fazer um programa que solicite ao utilizador um número que representa o total de números que se vão introduzir. Posteriormente, ler todos esses números e fazer a média aritmética de todos eles:**"
   ]
  },
  {
   "cell_type": "code",
   "execution_count": 74,
   "metadata": {},
   "outputs": [
    {
     "name": "stdout",
     "output_type": "stream",
     "text": [
      "Quantos números pretende inserir? 5\n",
      "Insira um número: 27\n",
      "Insira um número: 9\n",
      "Insira um número: 23\n",
      "Insira um número: 56\n",
      "Insira um número: 7\n",
      "A média dos números inseridos é: 24.4\n"
     ]
    }
   ],
   "source": [
    "# Pedido por teclado de quantos números vão ser inseridos\n",
    "\n",
    "comprimento = int(input(\"Quantos números pretende inserir? \"))\n",
    "\n",
    "# Criação da lista dos números que vão ser inseridos\n",
    "\n",
    "numeros = []\n",
    "\n",
    "# Enquanto se encontra dentro dos limites do comprimento, pedir para se inserir um número por teclado\n",
    "\n",
    "while comprimento >0:\n",
    "    comprimento -=1\n",
    "    numeros.append(int(input('Insira um número: ')))\n",
    "    \n",
    "# Definição da média e impressão da mesma    \n",
    "\n",
    "media = sum(numeros)/len(numeros)\n",
    "print('A média dos números inseridos é:',media)"
   ]
  },
  {
   "cell_type": "markdown",
   "metadata": {},
   "source": [
    "**8) Fazer um programa que solicite ao utilizador um número inteiro de 0 a 9, e que enquanto o número não seja correto se repita o processo. Logo deve comprovar se o número se encontra na lista de números e notificá-lo:**\n",
    "\n",
    "*Conselho: a sintaxis “valor in lista” permite comprovar facilmente se um valor se encontra numa lista (devolver True ou False)*"
   ]
  },
  {
   "cell_type": "code",
   "execution_count": 14,
   "metadata": {},
   "outputs": [
    {
     "name": "stdout",
     "output_type": "stream",
     "text": [
      "Insira um numero de 0 a 9: 27\n",
      "O número introduzido encontra-se fora dos limites. Tente outra vez.\n",
      "Insira um numero de 0 a 9: 9\n",
      "O valor introduzido encontra-se na lista.\n"
     ]
    }
   ],
   "source": [
    "# Lista de números a comparar e condição a ser definida\n",
    "\n",
    "numeros = [1, 3, 6, 9]\n",
    "valueList = False\n",
    "\n",
    "while valueList == False:\n",
    "    \n",
    "    # Pedir um número por teclado\n",
    "    \n",
    "    valor = int(input('Insira um numero de 0 a 9: '))\n",
    "    \n",
    "    # Garantir que o número se encontra dentro dos limites pedidos\n",
    "    \n",
    "    if valor >=0 and valor <=9:\n",
    "        \n",
    "        # Condição e mensagem a reproduzir se o número se encontra na lista\n",
    "        if valor in numeros:\n",
    "            valueList = True\n",
    "            print('O valor introduzido encontra-se na lista.')\n",
    "            \n",
    "            # Condição e mensagem a reproduzir se o número não se encontra na lista\n",
    "            \n",
    "        else:\n",
    "            print('O valor introduzido não se encontra na lista.')\n",
    "            break\n",
    "            \n",
    "    # Mensagem de erro se o número não estiver dentro dos limites estipulados (de 0 a 9)\n",
    "    \n",
    "    else:\n",
    "        print('O número introduzido encontra-se fora dos limites. Tente outra vez.')\n",
    "        \n",
    "        # Continuar a pedir números\n",
    "        \n",
    "        continue\n"
   ]
  },
  {
   "cell_type": "markdown",
   "metadata": {},
   "source": [
    "**9) Fazer um programa que utilize a função range() e a conversão para listas gera as seguintes listas dinamicamente (e mostrá-las com print):**\n",
    "\n",
    "* Todos os números de 0 a 10 [0, 1, 2, ..., 10]\n",
    "* Todos os números de -10 a 0 [-10, -9, -8, ..., 0]\n",
    "* Todos os números pares de 0 a 20 [0, 2, 4, ..., 20]\n",
    "* Todos os números ímpares entre -20 e 0 [-19, -17, -15, ..., -1]\n",
    "* Todos os números múltiplos de 5 a 50 [0, 5, 10, ..., 50]\n",
    "\n",
    "*Pista: utilizar o terceiro parâmetro da função range (início, fim, salto).*"
   ]
  },
  {
   "cell_type": "code",
   "execution_count": 78,
   "metadata": {},
   "outputs": [
    {
     "name": "stdout",
     "output_type": "stream",
     "text": [
      "[0, 1, 2, 3, 4, 5, 6, 7, 8, 9, 10]\n",
      "[-10, -9, -8, -7, -6, -5, -4, -3, -2, -1, 0]\n",
      "[0, 2, 4, 6, 8, 10, 12, 14, 16, 18, 20]\n",
      "[-19, -17, -15, -13, -11, -9, -7, -5, -3, -1]\n",
      "[0, 5, 10, 15, 20, 25, 30, 35, 40, 45, 50]\n"
     ]
    }
   ],
   "source": [
    "# Criação das listas dos números pedidos\n",
    "\n",
    "# Todos os números de 0 a 10\n",
    "numeros0a10 = []\n",
    "\n",
    "# Todos os números de -10 a 0\n",
    "numeros_10a0 = []\n",
    "\n",
    "# Todos os números pares de 0 a 20 \n",
    "numeros_pares0a20 = []\n",
    "\n",
    "# Todos os números ímpares entre -20 e 0 \n",
    "numeros_impares_20a0 = []\n",
    "\n",
    "# Todos os números múltiplos de 5 a 50\n",
    "numeros_multiplos_5 =[]\n",
    "\n",
    "# Condições para imprimir os números pedidos\n",
    "\n",
    "# Números de 0 a 10\n",
    "for i in range(0,11): numeros0a10.append(i)\n",
    "    \n",
    "    \n",
    "# Números de -10 a 0\n",
    "for i in range(-10,1): numeros_10a0.append(i)\n",
    "    \n",
    "    \n",
    "# Números de 0 a 20\n",
    "for i in range(0,21): \n",
    "    # Condição para serem pares\n",
    "    if (i%2) == 0: numeros_pares0a20.append(i)\n",
    "\n",
    "# Números de -20 a 0        \n",
    "for i in range(-20,1):\n",
    "    # Condição para serem ímpares\n",
    "    if (i%2) != 0: numeros_impares_20a0.append(i)\n",
    "        \n",
    "# Números de 0 a 50\n",
    "for i in range(0,51): \n",
    "    # Condição para serem múmptiplos de 5\n",
    "    if (i%5) == 0: numeros_multiplos_5.append(i)\n",
    "        \n",
    "#Impressão das listas\n",
    "\n",
    "print (numeros0a10 , numeros_10a0 , numeros_pares0a20 , numeros_impares_20a0 , numeros_multiplos_5 , sep='\\n')\n"
   ]
  },
  {
   "cell_type": "markdown",
   "metadata": {},
   "source": [
    "**10) Fazer um programa que dadas duas listas, gera uma terceira lista com todos os elementos que se repitam nelas, mas não deve repetir-se nenhum elemento na nova lista:**"
   ]
  },
  {
   "cell_type": "code",
   "execution_count": 28,
   "metadata": {},
   "outputs": [
    {
     "name": "stdout",
     "output_type": "stream",
     "text": [
      "['o', 'l', 'a', ' ', 'u']\n"
     ]
    }
   ],
   "source": [
    "# Definição das três listas e dos seus elementos\n",
    "\n",
    "lista1 = [\"o\",'l','a',' ', 'm','u','n','d','o']\n",
    "lista2 = [\"o\",'l','a',' ', 'l','u','a'] \n",
    "lista3 = []\n",
    "\n",
    "# Condições para a formação da terceira lista\n",
    "\n",
    "# Selecionar os elementos da lista 1 que se encontram na lista 2 e copiá-los para a lista 3\n",
    "\n",
    "for i in lista1: \n",
    "    if i in lista3: \n",
    "        pass\n",
    "    elif i in lista2:\n",
    "        lista3.append(i)\n",
    "        \n",
    "# Definição da terceira lista        \n",
    "        \n",
    "lista3 = list(lista3)\n",
    "\n",
    "# Impressão da terceira lista\n",
    "\n",
    "print(lista3)"
   ]
  }
 ],
 "metadata": {
  "anaconda-cloud": {},
  "kernelspec": {
   "display_name": "Python 3 (ipykernel)",
   "language": "python",
   "name": "python3"
  },
  "language_info": {
   "codemirror_mode": {
    "name": "ipython",
    "version": 3
   },
   "file_extension": ".py",
   "mimetype": "text/x-python",
   "name": "python",
   "nbconvert_exporter": "python",
   "pygments_lexer": "ipython3",
   "version": "3.9.13"
  }
 },
 "nbformat": 4,
 "nbformat_minor": 1
}
