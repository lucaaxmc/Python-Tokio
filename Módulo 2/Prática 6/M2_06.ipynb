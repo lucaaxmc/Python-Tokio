{
 "cells": [
  {
   "cell_type": "markdown",
   "metadata": {},
   "source": [
    "# Exercícios Módulo 2. Funções (Soluções)\n",
    "\n",
    "Considerações a ter em conta:\n",
    "\n",
    "* Guardar este documento com o seguinte formato para entrega: M2_06_nome_apelido1_apelido2\n",
    "* Fazer os exercícios com as ferramentas vistas nas sessões. \n",
    "* Comentar o código\n",
    "* Utilizar nomes de variáveis apropriados, se vai guardar uma nota, chamar a essa variável nota, não n ou x"
   ]
  },
  {
   "cell_type": "markdown",
   "metadata": {},
   "source": [
    "**1) Fazer uma função que devolva a área de um retângulo a partir da sua base e altura.\n",
    "A função chama-se area_retangulo(). Os valores da base e a altura pedem-se ao utilizador.**\n",
    "\n",
    "*Nota: a área de um retângulo obtém-se ao multiplicar a base pela altura.*"
   ]
  },
  {
   "cell_type": "code",
   "execution_count": 1,
   "metadata": {},
   "outputs": [
    {
     "name": "stdout",
     "output_type": "stream",
     "text": [
      "Lado do retângulo: 2\n",
      "Altura do retângulo: 7\n",
      "A área do retângulo é: 14.0\n"
     ]
    }
   ],
   "source": [
    "def area_retangulo():\n",
    "    base = float(input(\"Lado do retângulo: \"))\n",
    "    altura = float(input(\"Altura do retângulo: \"))\n",
    "\n",
    "    area_retangulo = base * altura\n",
    "    print ('A área do retângulo é:',area_retangulo)\n",
    "\n",
    "area_retangulo()\n"
   ]
  },
  {
   "cell_type": "markdown",
   "metadata": {},
   "source": [
    "**2) Fazer uma função que devolva a área de um círculo a partir de um raio.\n",
    "A função chama-se area_circulo(). O valor do raio pede-se ao utilizador:**\n",
    "\n",
    "Nota: a área de um círculo obtém-se ao elevar o raio ao quadrado e multiplicando o resultado pelo número pi. Pode utilizar o valor 3,14159 como pi ou importá-lo do módulo math:\n",
    "```python\n",
    "import math\n",
    "print(math.pi)\n",
    "> 3.1415...\n",
    "```"
   ]
  },
  {
   "cell_type": "code",
   "execution_count": 3,
   "metadata": {},
   "outputs": [
    {
     "name": "stdout",
     "output_type": "stream",
     "text": [
      "Insira o raio do círculo: 3\n",
      "A área do círculo é: 28.274333882308138\n"
     ]
    }
   ],
   "source": [
    "import math\n",
    "\n",
    "def area_circulo():\n",
    "    raio = float(input(\"Insira o raio do círculo: \"))\n",
    "    area_circulo = (raio **2) * math.pi\n",
    "    print('A área do círculo é:',area_circulo)\n",
    "\n",
    "area_circulo()"
   ]
  },
  {
   "cell_type": "markdown",
   "metadata": {},
   "source": [
    "**3)  Fazer uma função que a partir de dois números, que se solicitam por teclado ao utilizador e que se vai chamar relacao(), e cumpra as seguintes condições:**\n",
    "\n",
    "* Se o primeiro número é maior que o segundo, deve devolver 1\n",
    "* Se o primeiro número é menor que o segundo, deve devolver -1\n",
    "* Se ambos números são iguais, deve devolver um 0\n",
    "\n",
    "**Testar a relação entre os números com: '5 e 10', '10 e 5' e '5 e 5'**"
   ]
  },
  {
   "cell_type": "code",
   "execution_count": 4,
   "metadata": {},
   "outputs": [
    {
     "name": "stdout",
     "output_type": "stream",
     "text": [
      "Insira o primeiro número: 5\n",
      "Insira o segundo número: 10\n",
      "-1\n"
     ]
    }
   ],
   "source": [
    "def relacao():\n",
    "    numero1= int(input(\"Insira o primeiro número: \"))\n",
    "    numero2= int(input(\"Insira o segundo número: \"))\n",
    "\n",
    "    if numero1 > numero2:\n",
    "        print('1')\n",
    "    elif numero1 < numero2:\n",
    "        print('-1')\n",
    "    elif numero1 == numero2:\n",
    "        print('0')\n",
    "\n",
    "relacao()"
   ]
  },
  {
   "cell_type": "code",
   "execution_count": 5,
   "metadata": {},
   "outputs": [
    {
     "name": "stdout",
     "output_type": "stream",
     "text": [
      "Insira o primeiro número: 10\n",
      "Insira o segundo número: 5\n",
      "1\n"
     ]
    }
   ],
   "source": [
    "def relacao():\n",
    "    numero1= int(input(\"Insira o primeiro número: \"))\n",
    "    numero2= int(input(\"Insira o segundo número: \"))\n",
    "\n",
    "    if numero1 > numero2:\n",
    "        print('1')\n",
    "    elif numero1 < numero2:\n",
    "        print('-1')\n",
    "    elif numero1 == numero2:\n",
    "        print('0')\n",
    "\n",
    "relacao()"
   ]
  },
  {
   "cell_type": "code",
   "execution_count": 6,
   "metadata": {},
   "outputs": [
    {
     "name": "stdout",
     "output_type": "stream",
     "text": [
      "Insira o primeiro número: 5\n",
      "Insira o segundo número: 5\n",
      "0\n"
     ]
    }
   ],
   "source": [
    "def relacao():\n",
    "    numero1= int(input(\"Insira o primeiro número: \"))\n",
    "    numero2= int(input(\"Insira o segundo número: \"))\n",
    "\n",
    "    if numero1 > numero2:\n",
    "        print('1')\n",
    "    elif numero1 < numero2:\n",
    "        print('-1')\n",
    "    elif numero1 == numero2:\n",
    "        print('0')\n",
    "\n",
    "relacao()"
   ]
  },
  {
   "cell_type": "markdown",
   "metadata": {},
   "source": [
    "**4) Fazer uma função chamada ler_numero() que solicite e imprima um número do utilizador.  Utiliza esta função (ler_numeros) para pedir ao utilizador 3 números e guardamos estes 3 valores.\n",
    "De seguida, passe estes 3 números como argumento de uma nova função que se chame maior(a,b,c), que deve devolver o maior número:**"
   ]
  },
  {
   "cell_type": "code",
   "execution_count": 16,
   "metadata": {},
   "outputs": [
    {
     "name": "stdout",
     "output_type": "stream",
     "text": [
      "Insira um numero: 2\n",
      "Insira um numero: 7\n",
      "Insira um numero: 9\n",
      "9\n"
     ]
    }
   ],
   "source": [
    "def ler_numero():\n",
    "    numeros = int(input(\"Insira um numero: \"))\n",
    "    return numeros\n",
    "\n",
    "a = ler_numero()\n",
    "b = ler_numero()\n",
    "c = ler_numero()\n",
    "\n",
    "def maior(a, b, c):\n",
    "    if a > b and a > c:\n",
    "        print(a)\n",
    "    elif a > b and a < c:\n",
    "        print(c)\n",
    "    elif a < b and b > c:\n",
    "        print(b)\n",
    "    else:\n",
    "        print(c)\n",
    "\n",
    "maior(a,b,c)"
   ]
  },
  {
   "cell_type": "markdown",
   "metadata": {},
   "source": [
    "**5) Fazer uma função chamada imc(). Esta função proporciona-nos o estado nutricional de uma  pessoa. É a classificação do seu índice de massa corporal (IMC), segundo a definição:**\n",
    "* Baixo peso:  0 < 18.50\n",
    "* Normal:       entre (18.50, 25.00)\n",
    "* Sobrepeso:  entre (25.00, 30.00)\n",
    "* Obesidade:   ∞  > 30.00  \n",
    " A função irá receber o peso (em quilos) e o tamanho de uma pessoa (em metros com dois valores decimais) do utilizador, na qual se pode calcular o IMC da seguinte forma:\n",
    "\n",
    "*IMC = peso / (altura * altura)*\n",
    "*Classificação: IMC (Kg/m^2)*\n"
   ]
  },
  {
   "cell_type": "code",
   "execution_count": 11,
   "metadata": {},
   "outputs": [
    {
     "name": "stdout",
     "output_type": "stream",
     "text": [
      "Insira a altura em metros: 1.72\n",
      "Insira o seu peso em kilogramas: 50\n",
      "O seu Índice de massa corporal é de 16.90.\n",
      "Peso Baixo\n"
     ]
    }
   ],
   "source": [
    "def imc():\n",
    "    altura= float(input('Insira a altura em metros: '))\n",
    "    peso = float(input('Insira o seu peso em kilogramas: '))\n",
    "    imc = peso / (altura*altura)\n",
    "\n",
    "    print('O seu Índice de massa corporal é de {:.2f}.'. format(imc))\n",
    "\n",
    "    if imc < 18.50:\n",
    "        print('Peso Baixo')\n",
    "    elif imc >= 18.50 and  imc <=24.99:\n",
    "        print('Normal')\n",
    "    elif imc >= 25 and  imc <=29.99:\n",
    "        print('Sobrepeso')\n",
    "    elif imc >=30:\n",
    "        print('Obesidade')\n",
    "\n",
    "imc()"
   ]
  }
 ],
 "metadata": {
  "anaconda-cloud": {},
  "kernelspec": {
   "display_name": "Python 3 (ipykernel)",
   "language": "python",
   "name": "python3"
  },
  "language_info": {
   "codemirror_mode": {
    "name": "ipython",
    "version": 3
   },
   "file_extension": ".py",
   "mimetype": "text/x-python",
   "name": "python",
   "nbconvert_exporter": "python",
   "pygments_lexer": "ipython3",
   "version": "3.9.13"
  }
 },
 "nbformat": 4,
 "nbformat_minor": 1
}
