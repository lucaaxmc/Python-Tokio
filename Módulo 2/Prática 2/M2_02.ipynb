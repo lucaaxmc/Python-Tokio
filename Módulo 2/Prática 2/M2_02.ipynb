{
 "cells": [
  {
   "cell_type": "markdown",
   "metadata": {},
   "source": [
    "# Exercícios Módulo 2. Operadores\n",
    "\n",
    "Considerações a ter em conta:\n",
    "\n",
    "- Guardar este documento com o seguinte formato para entrega: __M2_02_nome_apelido1_apelido2__ \n",
    "- Fazer os exercícios com as ferramentas vistas nas sessões. Ainda não chegámos às condicionais nem ciclos \n",
    "- Comentar o código\n",
    "- Utilizar nomes de variáveis apropriados, se vai guardar uma nota, chamar a essa variável nota, não n ou x\n"
   ]
  },
  {
   "cell_type": "markdown",
   "metadata": {},
   "source": [
    "## Exercícios de operadores e expressões"
   ]
  },
  {
   "cell_type": "markdown",
   "metadata": {},
   "source": [
    "**1)  Armazenar 3 variáveis com 3 notas numéricas e fazer a média aritmética. Mostrar o resultado final com uma mensagem como esta: “A nota média é 6,0”**"
   ]
  },
  {
   "cell_type": "code",
   "execution_count": 4,
   "metadata": {},
   "outputs": [
    {
     "name": "stdout",
     "output_type": "stream",
     "text": [
      "A nota média é 14.7\n"
     ]
    }
   ],
   "source": [
    "nota1 = 17\n",
    "nota2 = 15\n",
    "nota3 = 12\n",
    "\n",
    "media = (nota1 + nota2 + nota3)/3\n",
    "media_float = \"{:.1f}\".format(media)\n",
    "\n",
    "print ('A nota média é', media_float)"
   ]
  },
  {
   "cell_type": "markdown",
   "metadata": {},
   "source": [
    "**2) Continuar o exercício anterior. Cada nota tem o valor percentual seguinte:**\n",
    "\n",
    "* 1ª nota: vale 15% do total \n",
    "* 2ª nota: vale 35% do total \n",
    "* 3ª nota: vale 50% do total\n",
    "\n",
    "**Calcular a nota média final.**"
   ]
  },
  {
   "cell_type": "code",
   "execution_count": 6,
   "metadata": {},
   "outputs": [
    {
     "name": "stdout",
     "output_type": "stream",
     "text": [
      "A nota média final é 13.8\n"
     ]
    }
   ],
   "source": [
    "nota1 = 17 * 0.15\n",
    "nota2 = 15 * 0.35\n",
    "nota3 = 12 * 0.50\n",
    "\n",
    "media = (nota1 + nota2 + nota3)\n",
    "media_float = media_float = \"{:.1f}\".format(media)\n",
    "\n",
    "print ('A nota média final é', media_float)"
   ]
  },
  {
   "cell_type": "markdown",
   "metadata": {},
   "source": [
    "**3)  Ler 2 números por teclado e avaliar de forma booleana (True ou False) os seguintes aspetos:**\n",
    "\n",
    "* Se os dois números são iguais\n",
    "* Se os dois números são diferentes\n",
    "* Se o primeiro é maior que o segundo\n",
    "* Se o segundo é maior ou igual ao primeiro"
   ]
  },
  {
   "cell_type": "code",
   "execution_count": 16,
   "metadata": {},
   "outputs": [
    {
     "name": "stdout",
     "output_type": "stream",
     "text": [
      "Insira o primeiro número: 5\n",
      "Insira o segundo número : 6\n",
      "Os dois números são iguais: False\n",
      "Os dois números são diferentes: True\n",
      "O primeiro número é maior que o segundo: False\n",
      "O segundo número é maior ou igual ao primeiro: True\n"
     ]
    }
   ],
   "source": [
    "inputA = input('Insira o primeiro número: ')\n",
    "inputB = input('Insira o segundo número : ')\n",
    "\n",
    "numeroA = int(inputA)\n",
    "numeroB= int(inputB)\n",
    "\n",
    "\n",
    "info1 = (numeroA == numeroB)\n",
    "info2 = (numeroA != numeroB)\n",
    "info3 = (numeroA > numeroB)\n",
    "info4 = (numeroA <= numeroB)\n",
    "\n",
    "\n",
    "print ('Os dois números são iguais:',info1)\n",
    "print ('Os dois números são diferentes:',info2)\n",
    "print ('O primeiro número é maior que o segundo:',info3)\n",
    "print ('O segundo número é maior ou igual ao primeiro:',info4)"
   ]
  },
  {
   "cell_type": "markdown",
   "metadata": {},
   "source": [
    "**4) Ler uma cadeia de texto introduzida pelo teclado e avaliar se tem um comprimento maior ou igual a três e menor que dez (mostrar unicamente True ou False) Pista: utilizar operadores lógicos**"
   ]
  },
  {
   "cell_type": "code",
   "execution_count": 15,
   "metadata": {},
   "outputs": [
    {
     "name": "stdout",
     "output_type": "stream",
     "text": [
      "Introduza uma palavra: Adeus\n"
     ]
    },
    {
     "data": {
      "text/plain": [
       "True"
      ]
     },
     "execution_count": 15,
     "metadata": {},
     "output_type": "execute_result"
    }
   ],
   "source": [
    "texto1 = input('Introduza uma palavra: ')\n",
    "len(texto1) >= 3 and len(texto1)< 10"
   ]
  },
  {
   "cell_type": "markdown",
   "metadata": {},
   "source": [
    "**5) Transcrever o seguinte algoritmo (utilizar operadores de atribuição sempre que possa):**\n",
    "\n",
    "* Guardar numa variável o número_mágico o valor 12345679 (sem o 8)\n",
    "* Ler por ecrã outro número_utilizador, especificar que seja entre 1 e 9 (assegurar que seja inteiro) \n",
    "* Multiplicar o número_utilizador por 9 por si mesmo\n",
    "* Multiplicar o número_mágico pelo número_utilizador por si mesmo \n",
    "* Finalmente mostrar o valor final do número_mágico por ecrã"
   ]
  },
  {
   "cell_type": "code",
   "execution_count": 23,
   "metadata": {},
   "outputs": [
    {
     "name": "stdout",
     "output_type": "stream",
     "text": [
      "Introduza um número inteiro ente 1 e 9: 7\n",
      "O número mágico é: 777777777\n"
     ]
    }
   ],
   "source": [
    "numero_magico = 12345679\n",
    "numero_utilizador = int(input('Introduza um número inteiro ente 1 e 9: '))\n",
    "numero_utilizador *= 9\n",
    "numero_magico *= numero_utilizador\n",
    "print('O número mágico é:', numero_magico)"
   ]
  }
 ],
 "metadata": {
  "anaconda-cloud": {},
  "kernelspec": {
   "display_name": "Python 3 (ipykernel)",
   "language": "python",
   "name": "python3"
  },
  "language_info": {
   "codemirror_mode": {
    "name": "ipython",
    "version": 3
   },
   "file_extension": ".py",
   "mimetype": "text/x-python",
   "name": "python",
   "nbconvert_exporter": "python",
   "pygments_lexer": "ipython3",
   "version": "3.9.13"
  }
 },
 "nbformat": 4,
 "nbformat_minor": 1
}
